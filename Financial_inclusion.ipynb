{
  "cells": [
    {
      "cell_type": "markdown",
      "metadata": {
        "id": "0XEQMCYWx5C6"
      },
      "source": [
        "## Financial Inclusion\n",
        "\n",
        "* Financial inclusion means that individuals and businesses have access to useful and affordable financial products and services that meet their needs – transactions, payments, savings, credit and insurance – delivered in a responsible and sustainable way.\n",
        "\n",
        "* Financial inclusion remains one of the main obstacles to economic and human development in Africa."
      ]
    },
    {
      "cell_type": "markdown",
      "source": [
        "### OBJECTIVE OF PROJECT\n",
        "\n",
        "* The objective of this project is to create a machine learning model to predict which individuals are most likely to have or use a bank account. The models and solutions developed can provide an indication of the state of financial inclusion in Kenya, Rwanda, Tanzania and Uganda, while providing insights into some of the key factors driving individuals’ financial security."
      ],
      "metadata": {
        "id": "vkUn0_tIa6Hc"
      }
    },
    {
      "cell_type": "code",
      "source": [
        "# Import necessary libraries\n",
        "import pandas as pd\n",
        "import numpy as np\n",
        "import matplotlib.pyplot as plt \n",
        "import seaborn as sns\n",
        "from sklearn.preprocessing import LabelEncoder, OneHotEncoder\n",
        "from sklearn.preprocessing import MinMaxScaler\n",
        "from lightgbm import LGBMClassifier\n",
        "from sklearn.model_selection import cross_validate, GridSearchCV"
      ],
      "metadata": {
        "id": "w-HTOjSKadoM"
      },
      "execution_count": null,
      "outputs": []
    },
    {
      "cell_type": "code",
      "execution_count": null,
      "metadata": {
        "id": "nFg-l3B3N9BQ"
      },
      "outputs": [],
      "source": [
        "#Path to the required files \n",
        "path_test = r'Test.csv'\n",
        "path_train = r'Train.csv'\n",
        "path_variable = r'VariableDefinitions.csv'"
      ]
    },
    {
      "cell_type": "code",
      "source": [
        "# Read csv and convert to DataFrames\n",
        "train_csv = pd.read_csv(path_train)\n",
        "test_csv = pd.read_csv(path_test)\n",
        "variables_csv = pd.read_csv(path_variable)\n",
        "\n",
        "train_df = pd.DataFrame(train_csv)\n",
        "test_df = pd.DataFrame(test_csv)\n",
        "variable_df = pd.DataFrame(variables_csv)"
      ],
      "metadata": {
        "id": "nAkA5nhG0-lM"
      },
      "execution_count": null,
      "outputs": []
    },
    {
      "cell_type": "code",
      "source": [
        "train_df.head()"
      ],
      "metadata": {
        "colab": {
          "base_uri": "https://localhost:8080/",
          "height": 374
        },
        "id": "yZ8V1QVX2y0h",
        "outputId": "71f64d1b-d1a5-42f1-971f-3a13f7f21593"
      },
      "execution_count": null,
      "outputs": [
        {
          "output_type": "execute_result",
          "data": {
            "text/plain": [
              "  country  year    uniqueid bank_account location_type cellphone_access  \\\n",
              "0   Kenya  2018  uniqueid_1          Yes         Rural              Yes   \n",
              "1   Kenya  2018  uniqueid_2           No         Rural               No   \n",
              "2   Kenya  2018  uniqueid_3          Yes         Urban              Yes   \n",
              "3   Kenya  2018  uniqueid_4           No         Rural              Yes   \n",
              "4   Kenya  2018  uniqueid_5           No         Urban               No   \n",
              "\n",
              "   household_size  age_of_respondent gender_of_respondent  \\\n",
              "0               3                 24               Female   \n",
              "1               5                 70               Female   \n",
              "2               5                 26                 Male   \n",
              "3               5                 34               Female   \n",
              "4               8                 26                 Male   \n",
              "\n",
              "  relationship_with_head           marital_status  \\\n",
              "0                 Spouse  Married/Living together   \n",
              "1      Head of Household                  Widowed   \n",
              "2         Other relative     Single/Never Married   \n",
              "3      Head of Household  Married/Living together   \n",
              "4                  Child     Single/Never Married   \n",
              "\n",
              "                   education_level                   job_type  \n",
              "0              Secondary education              Self employed  \n",
              "1              No formal education       Government Dependent  \n",
              "2  Vocational/Specialised training              Self employed  \n",
              "3                Primary education  Formally employed Private  \n",
              "4                Primary education        Informally employed  "
            ],
            "text/html": [
              "\n",
              "  <div id=\"df-5191d647-e517-47c4-9276-1a0c2051b819\">\n",
              "    <div class=\"colab-df-container\">\n",
              "      <div>\n",
              "<style scoped>\n",
              "    .dataframe tbody tr th:only-of-type {\n",
              "        vertical-align: middle;\n",
              "    }\n",
              "\n",
              "    .dataframe tbody tr th {\n",
              "        vertical-align: top;\n",
              "    }\n",
              "\n",
              "    .dataframe thead th {\n",
              "        text-align: right;\n",
              "    }\n",
              "</style>\n",
              "<table border=\"1\" class=\"dataframe\">\n",
              "  <thead>\n",
              "    <tr style=\"text-align: right;\">\n",
              "      <th></th>\n",
              "      <th>country</th>\n",
              "      <th>year</th>\n",
              "      <th>uniqueid</th>\n",
              "      <th>bank_account</th>\n",
              "      <th>location_type</th>\n",
              "      <th>cellphone_access</th>\n",
              "      <th>household_size</th>\n",
              "      <th>age_of_respondent</th>\n",
              "      <th>gender_of_respondent</th>\n",
              "      <th>relationship_with_head</th>\n",
              "      <th>marital_status</th>\n",
              "      <th>education_level</th>\n",
              "      <th>job_type</th>\n",
              "    </tr>\n",
              "  </thead>\n",
              "  <tbody>\n",
              "    <tr>\n",
              "      <th>0</th>\n",
              "      <td>Kenya</td>\n",
              "      <td>2018</td>\n",
              "      <td>uniqueid_1</td>\n",
              "      <td>Yes</td>\n",
              "      <td>Rural</td>\n",
              "      <td>Yes</td>\n",
              "      <td>3</td>\n",
              "      <td>24</td>\n",
              "      <td>Female</td>\n",
              "      <td>Spouse</td>\n",
              "      <td>Married/Living together</td>\n",
              "      <td>Secondary education</td>\n",
              "      <td>Self employed</td>\n",
              "    </tr>\n",
              "    <tr>\n",
              "      <th>1</th>\n",
              "      <td>Kenya</td>\n",
              "      <td>2018</td>\n",
              "      <td>uniqueid_2</td>\n",
              "      <td>No</td>\n",
              "      <td>Rural</td>\n",
              "      <td>No</td>\n",
              "      <td>5</td>\n",
              "      <td>70</td>\n",
              "      <td>Female</td>\n",
              "      <td>Head of Household</td>\n",
              "      <td>Widowed</td>\n",
              "      <td>No formal education</td>\n",
              "      <td>Government Dependent</td>\n",
              "    </tr>\n",
              "    <tr>\n",
              "      <th>2</th>\n",
              "      <td>Kenya</td>\n",
              "      <td>2018</td>\n",
              "      <td>uniqueid_3</td>\n",
              "      <td>Yes</td>\n",
              "      <td>Urban</td>\n",
              "      <td>Yes</td>\n",
              "      <td>5</td>\n",
              "      <td>26</td>\n",
              "      <td>Male</td>\n",
              "      <td>Other relative</td>\n",
              "      <td>Single/Never Married</td>\n",
              "      <td>Vocational/Specialised training</td>\n",
              "      <td>Self employed</td>\n",
              "    </tr>\n",
              "    <tr>\n",
              "      <th>3</th>\n",
              "      <td>Kenya</td>\n",
              "      <td>2018</td>\n",
              "      <td>uniqueid_4</td>\n",
              "      <td>No</td>\n",
              "      <td>Rural</td>\n",
              "      <td>Yes</td>\n",
              "      <td>5</td>\n",
              "      <td>34</td>\n",
              "      <td>Female</td>\n",
              "      <td>Head of Household</td>\n",
              "      <td>Married/Living together</td>\n",
              "      <td>Primary education</td>\n",
              "      <td>Formally employed Private</td>\n",
              "    </tr>\n",
              "    <tr>\n",
              "      <th>4</th>\n",
              "      <td>Kenya</td>\n",
              "      <td>2018</td>\n",
              "      <td>uniqueid_5</td>\n",
              "      <td>No</td>\n",
              "      <td>Urban</td>\n",
              "      <td>No</td>\n",
              "      <td>8</td>\n",
              "      <td>26</td>\n",
              "      <td>Male</td>\n",
              "      <td>Child</td>\n",
              "      <td>Single/Never Married</td>\n",
              "      <td>Primary education</td>\n",
              "      <td>Informally employed</td>\n",
              "    </tr>\n",
              "  </tbody>\n",
              "</table>\n",
              "</div>\n",
              "      <button class=\"colab-df-convert\" onclick=\"convertToInteractive('df-5191d647-e517-47c4-9276-1a0c2051b819')\"\n",
              "              title=\"Convert this dataframe to an interactive table.\"\n",
              "              style=\"display:none;\">\n",
              "        \n",
              "  <svg xmlns=\"http://www.w3.org/2000/svg\" height=\"24px\"viewBox=\"0 0 24 24\"\n",
              "       width=\"24px\">\n",
              "    <path d=\"M0 0h24v24H0V0z\" fill=\"none\"/>\n",
              "    <path d=\"M18.56 5.44l.94 2.06.94-2.06 2.06-.94-2.06-.94-.94-2.06-.94 2.06-2.06.94zm-11 1L8.5 8.5l.94-2.06 2.06-.94-2.06-.94L8.5 2.5l-.94 2.06-2.06.94zm10 10l.94 2.06.94-2.06 2.06-.94-2.06-.94-.94-2.06-.94 2.06-2.06.94z\"/><path d=\"M17.41 7.96l-1.37-1.37c-.4-.4-.92-.59-1.43-.59-.52 0-1.04.2-1.43.59L10.3 9.45l-7.72 7.72c-.78.78-.78 2.05 0 2.83L4 21.41c.39.39.9.59 1.41.59.51 0 1.02-.2 1.41-.59l7.78-7.78 2.81-2.81c.8-.78.8-2.07 0-2.86zM5.41 20L4 18.59l7.72-7.72 1.47 1.35L5.41 20z\"/>\n",
              "  </svg>\n",
              "      </button>\n",
              "      \n",
              "  <style>\n",
              "    .colab-df-container {\n",
              "      display:flex;\n",
              "      flex-wrap:wrap;\n",
              "      gap: 12px;\n",
              "    }\n",
              "\n",
              "    .colab-df-convert {\n",
              "      background-color: #E8F0FE;\n",
              "      border: none;\n",
              "      border-radius: 50%;\n",
              "      cursor: pointer;\n",
              "      display: none;\n",
              "      fill: #1967D2;\n",
              "      height: 32px;\n",
              "      padding: 0 0 0 0;\n",
              "      width: 32px;\n",
              "    }\n",
              "\n",
              "    .colab-df-convert:hover {\n",
              "      background-color: #E2EBFA;\n",
              "      box-shadow: 0px 1px 2px rgba(60, 64, 67, 0.3), 0px 1px 3px 1px rgba(60, 64, 67, 0.15);\n",
              "      fill: #174EA6;\n",
              "    }\n",
              "\n",
              "    [theme=dark] .colab-df-convert {\n",
              "      background-color: #3B4455;\n",
              "      fill: #D2E3FC;\n",
              "    }\n",
              "\n",
              "    [theme=dark] .colab-df-convert:hover {\n",
              "      background-color: #434B5C;\n",
              "      box-shadow: 0px 1px 3px 1px rgba(0, 0, 0, 0.15);\n",
              "      filter: drop-shadow(0px 1px 2px rgba(0, 0, 0, 0.3));\n",
              "      fill: #FFFFFF;\n",
              "    }\n",
              "  </style>\n",
              "\n",
              "      <script>\n",
              "        const buttonEl =\n",
              "          document.querySelector('#df-5191d647-e517-47c4-9276-1a0c2051b819 button.colab-df-convert');\n",
              "        buttonEl.style.display =\n",
              "          google.colab.kernel.accessAllowed ? 'block' : 'none';\n",
              "\n",
              "        async function convertToInteractive(key) {\n",
              "          const element = document.querySelector('#df-5191d647-e517-47c4-9276-1a0c2051b819');\n",
              "          const dataTable =\n",
              "            await google.colab.kernel.invokeFunction('convertToInteractive',\n",
              "                                                     [key], {});\n",
              "          if (!dataTable) return;\n",
              "\n",
              "          const docLinkHtml = 'Like what you see? Visit the ' +\n",
              "            '<a target=\"_blank\" href=https://colab.research.google.com/notebooks/data_table.ipynb>data table notebook</a>'\n",
              "            + ' to learn more about interactive tables.';\n",
              "          element.innerHTML = '';\n",
              "          dataTable['output_type'] = 'display_data';\n",
              "          await google.colab.output.renderOutput(dataTable, element);\n",
              "          const docLink = document.createElement('div');\n",
              "          docLink.innerHTML = docLinkHtml;\n",
              "          element.appendChild(docLink);\n",
              "        }\n",
              "      </script>\n",
              "    </div>\n",
              "  </div>\n",
              "  "
            ]
          },
          "metadata": {},
          "execution_count": 6
        }
      ]
    },
    {
      "cell_type": "code",
      "source": [
        "test_df.head()"
      ],
      "metadata": {
        "colab": {
          "base_uri": "https://localhost:8080/",
          "height": 392
        },
        "id": "z1nkJY1p0jmo",
        "outputId": "d6af66b3-682b-40b0-fdef-73f227ea8a31"
      },
      "execution_count": null,
      "outputs": [
        {
          "output_type": "execute_result",
          "data": {
            "text/plain": [
              "  country  year       uniqueid location_type cellphone_access  household_size  \\\n",
              "0   Kenya  2018  uniqueid_6056         Urban              Yes               3   \n",
              "1   Kenya  2018  uniqueid_6060         Urban              Yes               7   \n",
              "2   Kenya  2018  uniqueid_6065         Rural               No               3   \n",
              "3   Kenya  2018  uniqueid_6072         Rural               No               6   \n",
              "4   Kenya  2018  uniqueid_6073         Urban               No               3   \n",
              "\n",
              "   age_of_respondent gender_of_respondent relationship_with_head  \\\n",
              "0                 30                 Male      Head of Household   \n",
              "1                 51                 Male      Head of Household   \n",
              "2                 77               Female                 Parent   \n",
              "3                 39               Female      Head of Household   \n",
              "4                 16                 Male                  Child   \n",
              "\n",
              "            marital_status                  education_level  \\\n",
              "0  Married/Living together              Secondary education   \n",
              "1  Married/Living together  Vocational/Specialised training   \n",
              "2  Married/Living together              No formal education   \n",
              "3  Married/Living together                Primary education   \n",
              "4     Single/Never Married              Secondary education   \n",
              "\n",
              "                       job_type  \n",
              "0  Formally employed Government  \n",
              "1     Formally employed Private  \n",
              "2          Remittance Dependent  \n",
              "3          Remittance Dependent  \n",
              "4          Remittance Dependent  "
            ],
            "text/html": [
              "\n",
              "  <div id=\"df-75fba6dc-744a-4954-8b01-5af1900c9fe4\">\n",
              "    <div class=\"colab-df-container\">\n",
              "      <div>\n",
              "<style scoped>\n",
              "    .dataframe tbody tr th:only-of-type {\n",
              "        vertical-align: middle;\n",
              "    }\n",
              "\n",
              "    .dataframe tbody tr th {\n",
              "        vertical-align: top;\n",
              "    }\n",
              "\n",
              "    .dataframe thead th {\n",
              "        text-align: right;\n",
              "    }\n",
              "</style>\n",
              "<table border=\"1\" class=\"dataframe\">\n",
              "  <thead>\n",
              "    <tr style=\"text-align: right;\">\n",
              "      <th></th>\n",
              "      <th>country</th>\n",
              "      <th>year</th>\n",
              "      <th>uniqueid</th>\n",
              "      <th>location_type</th>\n",
              "      <th>cellphone_access</th>\n",
              "      <th>household_size</th>\n",
              "      <th>age_of_respondent</th>\n",
              "      <th>gender_of_respondent</th>\n",
              "      <th>relationship_with_head</th>\n",
              "      <th>marital_status</th>\n",
              "      <th>education_level</th>\n",
              "      <th>job_type</th>\n",
              "    </tr>\n",
              "  </thead>\n",
              "  <tbody>\n",
              "    <tr>\n",
              "      <th>0</th>\n",
              "      <td>Kenya</td>\n",
              "      <td>2018</td>\n",
              "      <td>uniqueid_6056</td>\n",
              "      <td>Urban</td>\n",
              "      <td>Yes</td>\n",
              "      <td>3</td>\n",
              "      <td>30</td>\n",
              "      <td>Male</td>\n",
              "      <td>Head of Household</td>\n",
              "      <td>Married/Living together</td>\n",
              "      <td>Secondary education</td>\n",
              "      <td>Formally employed Government</td>\n",
              "    </tr>\n",
              "    <tr>\n",
              "      <th>1</th>\n",
              "      <td>Kenya</td>\n",
              "      <td>2018</td>\n",
              "      <td>uniqueid_6060</td>\n",
              "      <td>Urban</td>\n",
              "      <td>Yes</td>\n",
              "      <td>7</td>\n",
              "      <td>51</td>\n",
              "      <td>Male</td>\n",
              "      <td>Head of Household</td>\n",
              "      <td>Married/Living together</td>\n",
              "      <td>Vocational/Specialised training</td>\n",
              "      <td>Formally employed Private</td>\n",
              "    </tr>\n",
              "    <tr>\n",
              "      <th>2</th>\n",
              "      <td>Kenya</td>\n",
              "      <td>2018</td>\n",
              "      <td>uniqueid_6065</td>\n",
              "      <td>Rural</td>\n",
              "      <td>No</td>\n",
              "      <td>3</td>\n",
              "      <td>77</td>\n",
              "      <td>Female</td>\n",
              "      <td>Parent</td>\n",
              "      <td>Married/Living together</td>\n",
              "      <td>No formal education</td>\n",
              "      <td>Remittance Dependent</td>\n",
              "    </tr>\n",
              "    <tr>\n",
              "      <th>3</th>\n",
              "      <td>Kenya</td>\n",
              "      <td>2018</td>\n",
              "      <td>uniqueid_6072</td>\n",
              "      <td>Rural</td>\n",
              "      <td>No</td>\n",
              "      <td>6</td>\n",
              "      <td>39</td>\n",
              "      <td>Female</td>\n",
              "      <td>Head of Household</td>\n",
              "      <td>Married/Living together</td>\n",
              "      <td>Primary education</td>\n",
              "      <td>Remittance Dependent</td>\n",
              "    </tr>\n",
              "    <tr>\n",
              "      <th>4</th>\n",
              "      <td>Kenya</td>\n",
              "      <td>2018</td>\n",
              "      <td>uniqueid_6073</td>\n",
              "      <td>Urban</td>\n",
              "      <td>No</td>\n",
              "      <td>3</td>\n",
              "      <td>16</td>\n",
              "      <td>Male</td>\n",
              "      <td>Child</td>\n",
              "      <td>Single/Never Married</td>\n",
              "      <td>Secondary education</td>\n",
              "      <td>Remittance Dependent</td>\n",
              "    </tr>\n",
              "  </tbody>\n",
              "</table>\n",
              "</div>\n",
              "      <button class=\"colab-df-convert\" onclick=\"convertToInteractive('df-75fba6dc-744a-4954-8b01-5af1900c9fe4')\"\n",
              "              title=\"Convert this dataframe to an interactive table.\"\n",
              "              style=\"display:none;\">\n",
              "        \n",
              "  <svg xmlns=\"http://www.w3.org/2000/svg\" height=\"24px\"viewBox=\"0 0 24 24\"\n",
              "       width=\"24px\">\n",
              "    <path d=\"M0 0h24v24H0V0z\" fill=\"none\"/>\n",
              "    <path d=\"M18.56 5.44l.94 2.06.94-2.06 2.06-.94-2.06-.94-.94-2.06-.94 2.06-2.06.94zm-11 1L8.5 8.5l.94-2.06 2.06-.94-2.06-.94L8.5 2.5l-.94 2.06-2.06.94zm10 10l.94 2.06.94-2.06 2.06-.94-2.06-.94-.94-2.06-.94 2.06-2.06.94z\"/><path d=\"M17.41 7.96l-1.37-1.37c-.4-.4-.92-.59-1.43-.59-.52 0-1.04.2-1.43.59L10.3 9.45l-7.72 7.72c-.78.78-.78 2.05 0 2.83L4 21.41c.39.39.9.59 1.41.59.51 0 1.02-.2 1.41-.59l7.78-7.78 2.81-2.81c.8-.78.8-2.07 0-2.86zM5.41 20L4 18.59l7.72-7.72 1.47 1.35L5.41 20z\"/>\n",
              "  </svg>\n",
              "      </button>\n",
              "      \n",
              "  <style>\n",
              "    .colab-df-container {\n",
              "      display:flex;\n",
              "      flex-wrap:wrap;\n",
              "      gap: 12px;\n",
              "    }\n",
              "\n",
              "    .colab-df-convert {\n",
              "      background-color: #E8F0FE;\n",
              "      border: none;\n",
              "      border-radius: 50%;\n",
              "      cursor: pointer;\n",
              "      display: none;\n",
              "      fill: #1967D2;\n",
              "      height: 32px;\n",
              "      padding: 0 0 0 0;\n",
              "      width: 32px;\n",
              "    }\n",
              "\n",
              "    .colab-df-convert:hover {\n",
              "      background-color: #E2EBFA;\n",
              "      box-shadow: 0px 1px 2px rgba(60, 64, 67, 0.3), 0px 1px 3px 1px rgba(60, 64, 67, 0.15);\n",
              "      fill: #174EA6;\n",
              "    }\n",
              "\n",
              "    [theme=dark] .colab-df-convert {\n",
              "      background-color: #3B4455;\n",
              "      fill: #D2E3FC;\n",
              "    }\n",
              "\n",
              "    [theme=dark] .colab-df-convert:hover {\n",
              "      background-color: #434B5C;\n",
              "      box-shadow: 0px 1px 3px 1px rgba(0, 0, 0, 0.15);\n",
              "      filter: drop-shadow(0px 1px 2px rgba(0, 0, 0, 0.3));\n",
              "      fill: #FFFFFF;\n",
              "    }\n",
              "  </style>\n",
              "\n",
              "      <script>\n",
              "        const buttonEl =\n",
              "          document.querySelector('#df-75fba6dc-744a-4954-8b01-5af1900c9fe4 button.colab-df-convert');\n",
              "        buttonEl.style.display =\n",
              "          google.colab.kernel.accessAllowed ? 'block' : 'none';\n",
              "\n",
              "        async function convertToInteractive(key) {\n",
              "          const element = document.querySelector('#df-75fba6dc-744a-4954-8b01-5af1900c9fe4');\n",
              "          const dataTable =\n",
              "            await google.colab.kernel.invokeFunction('convertToInteractive',\n",
              "                                                     [key], {});\n",
              "          if (!dataTable) return;\n",
              "\n",
              "          const docLinkHtml = 'Like what you see? Visit the ' +\n",
              "            '<a target=\"_blank\" href=https://colab.research.google.com/notebooks/data_table.ipynb>data table notebook</a>'\n",
              "            + ' to learn more about interactive tables.';\n",
              "          element.innerHTML = '';\n",
              "          dataTable['output_type'] = 'display_data';\n",
              "          await google.colab.output.renderOutput(dataTable, element);\n",
              "          const docLink = document.createElement('div');\n",
              "          docLink.innerHTML = docLinkHtml;\n",
              "          element.appendChild(docLink);\n",
              "        }\n",
              "      </script>\n",
              "    </div>\n",
              "  </div>\n",
              "  "
            ]
          },
          "metadata": {},
          "execution_count": 7
        }
      ]
    },
    {
      "cell_type": "code",
      "source": [
        "variable_df.head()"
      ],
      "metadata": {
        "colab": {
          "base_uri": "https://localhost:8080/",
          "height": 206
        },
        "id": "ZlyMy8mj3jA7",
        "outputId": "a7f2a657-cb55-4bed-bf85-bfab732fc1aa"
      },
      "execution_count": null,
      "outputs": [
        {
          "output_type": "execute_result",
          "data": {
            "text/plain": [
              "  Variable Definitions                                         Unnamed: 1\n",
              "0              country                         Country interviewee is in.\n",
              "1                 year                           Year survey was done in.\n",
              "2             uniqueid             Unique identifier for each interviewee\n",
              "3        location_type                     Type of location: Rural, Urban\n",
              "4     cellphone_access  If interviewee has access to a cellphone: Yes, No"
            ],
            "text/html": [
              "\n",
              "  <div id=\"df-ec73705e-29ab-4108-93ae-5270d198d8e6\">\n",
              "    <div class=\"colab-df-container\">\n",
              "      <div>\n",
              "<style scoped>\n",
              "    .dataframe tbody tr th:only-of-type {\n",
              "        vertical-align: middle;\n",
              "    }\n",
              "\n",
              "    .dataframe tbody tr th {\n",
              "        vertical-align: top;\n",
              "    }\n",
              "\n",
              "    .dataframe thead th {\n",
              "        text-align: right;\n",
              "    }\n",
              "</style>\n",
              "<table border=\"1\" class=\"dataframe\">\n",
              "  <thead>\n",
              "    <tr style=\"text-align: right;\">\n",
              "      <th></th>\n",
              "      <th>Variable Definitions</th>\n",
              "      <th>Unnamed: 1</th>\n",
              "    </tr>\n",
              "  </thead>\n",
              "  <tbody>\n",
              "    <tr>\n",
              "      <th>0</th>\n",
              "      <td>country</td>\n",
              "      <td>Country interviewee is in.</td>\n",
              "    </tr>\n",
              "    <tr>\n",
              "      <th>1</th>\n",
              "      <td>year</td>\n",
              "      <td>Year survey was done in.</td>\n",
              "    </tr>\n",
              "    <tr>\n",
              "      <th>2</th>\n",
              "      <td>uniqueid</td>\n",
              "      <td>Unique identifier for each interviewee</td>\n",
              "    </tr>\n",
              "    <tr>\n",
              "      <th>3</th>\n",
              "      <td>location_type</td>\n",
              "      <td>Type of location: Rural, Urban</td>\n",
              "    </tr>\n",
              "    <tr>\n",
              "      <th>4</th>\n",
              "      <td>cellphone_access</td>\n",
              "      <td>If interviewee has access to a cellphone: Yes, No</td>\n",
              "    </tr>\n",
              "  </tbody>\n",
              "</table>\n",
              "</div>\n",
              "      <button class=\"colab-df-convert\" onclick=\"convertToInteractive('df-ec73705e-29ab-4108-93ae-5270d198d8e6')\"\n",
              "              title=\"Convert this dataframe to an interactive table.\"\n",
              "              style=\"display:none;\">\n",
              "        \n",
              "  <svg xmlns=\"http://www.w3.org/2000/svg\" height=\"24px\"viewBox=\"0 0 24 24\"\n",
              "       width=\"24px\">\n",
              "    <path d=\"M0 0h24v24H0V0z\" fill=\"none\"/>\n",
              "    <path d=\"M18.56 5.44l.94 2.06.94-2.06 2.06-.94-2.06-.94-.94-2.06-.94 2.06-2.06.94zm-11 1L8.5 8.5l.94-2.06 2.06-.94-2.06-.94L8.5 2.5l-.94 2.06-2.06.94zm10 10l.94 2.06.94-2.06 2.06-.94-2.06-.94-.94-2.06-.94 2.06-2.06.94z\"/><path d=\"M17.41 7.96l-1.37-1.37c-.4-.4-.92-.59-1.43-.59-.52 0-1.04.2-1.43.59L10.3 9.45l-7.72 7.72c-.78.78-.78 2.05 0 2.83L4 21.41c.39.39.9.59 1.41.59.51 0 1.02-.2 1.41-.59l7.78-7.78 2.81-2.81c.8-.78.8-2.07 0-2.86zM5.41 20L4 18.59l7.72-7.72 1.47 1.35L5.41 20z\"/>\n",
              "  </svg>\n",
              "      </button>\n",
              "      \n",
              "  <style>\n",
              "    .colab-df-container {\n",
              "      display:flex;\n",
              "      flex-wrap:wrap;\n",
              "      gap: 12px;\n",
              "    }\n",
              "\n",
              "    .colab-df-convert {\n",
              "      background-color: #E8F0FE;\n",
              "      border: none;\n",
              "      border-radius: 50%;\n",
              "      cursor: pointer;\n",
              "      display: none;\n",
              "      fill: #1967D2;\n",
              "      height: 32px;\n",
              "      padding: 0 0 0 0;\n",
              "      width: 32px;\n",
              "    }\n",
              "\n",
              "    .colab-df-convert:hover {\n",
              "      background-color: #E2EBFA;\n",
              "      box-shadow: 0px 1px 2px rgba(60, 64, 67, 0.3), 0px 1px 3px 1px rgba(60, 64, 67, 0.15);\n",
              "      fill: #174EA6;\n",
              "    }\n",
              "\n",
              "    [theme=dark] .colab-df-convert {\n",
              "      background-color: #3B4455;\n",
              "      fill: #D2E3FC;\n",
              "    }\n",
              "\n",
              "    [theme=dark] .colab-df-convert:hover {\n",
              "      background-color: #434B5C;\n",
              "      box-shadow: 0px 1px 3px 1px rgba(0, 0, 0, 0.15);\n",
              "      filter: drop-shadow(0px 1px 2px rgba(0, 0, 0, 0.3));\n",
              "      fill: #FFFFFF;\n",
              "    }\n",
              "  </style>\n",
              "\n",
              "      <script>\n",
              "        const buttonEl =\n",
              "          document.querySelector('#df-ec73705e-29ab-4108-93ae-5270d198d8e6 button.colab-df-convert');\n",
              "        buttonEl.style.display =\n",
              "          google.colab.kernel.accessAllowed ? 'block' : 'none';\n",
              "\n",
              "        async function convertToInteractive(key) {\n",
              "          const element = document.querySelector('#df-ec73705e-29ab-4108-93ae-5270d198d8e6');\n",
              "          const dataTable =\n",
              "            await google.colab.kernel.invokeFunction('convertToInteractive',\n",
              "                                                     [key], {});\n",
              "          if (!dataTable) return;\n",
              "\n",
              "          const docLinkHtml = 'Like what you see? Visit the ' +\n",
              "            '<a target=\"_blank\" href=https://colab.research.google.com/notebooks/data_table.ipynb>data table notebook</a>'\n",
              "            + ' to learn more about interactive tables.';\n",
              "          element.innerHTML = '';\n",
              "          dataTable['output_type'] = 'display_data';\n",
              "          await google.colab.output.renderOutput(dataTable, element);\n",
              "          const docLink = document.createElement('div');\n",
              "          docLink.innerHTML = docLinkHtml;\n",
              "          element.appendChild(docLink);\n",
              "        }\n",
              "      </script>\n",
              "    </div>\n",
              "  </div>\n",
              "  "
            ]
          },
          "metadata": {},
          "execution_count": 8
        }
      ]
    },
    {
      "cell_type": "markdown",
      "source": [
        "## Exploratory Data Analysis"
      ],
      "metadata": {
        "id": "ACBB7KB54bQO"
      }
    },
    {
      "cell_type": "code",
      "source": [
        "## Write a function to display the dataset information and descriptions\n",
        "\n",
        "def data_info(df):\n",
        "\n",
        "  print('*'*30, 'head'.upper(), '*'*30)\n",
        "  print(df.head())\n",
        "\n",
        "\n",
        "  print('*'*30, 'columns'.upper(), '*'*30)\n",
        "  print(df.columns)\n",
        "\n",
        "  print('*'*30, 'data type'.upper(), '*'*30)\n",
        "  print(type(df))\n",
        "\n",
        "  print('*'*30, 'Shape'.upper(), '*'*30)\n",
        "  print(df.shape)\n",
        "\n",
        "  print('*'*30, 'Info'.upper(), '*'*30)\n",
        "  print(df.info())\n",
        "\n",
        "  print('*'*30, 'isnull'.upper(), '*'*30)\n",
        "  print(df.isnull().any())\n",
        "\n",
        "  print('*'*30, 'isnull count'.upper(), '*'*30)\n",
        "  print(df.isnull().any().value_counts())\n",
        "\n",
        "  print('*'*30, 'Description'.upper(), '*'*30)\n",
        "  print(df.describe())\n",
        "\n",
        "\n"
      ],
      "metadata": {
        "id": "kWwUs1AT4fxT"
      },
      "execution_count": null,
      "outputs": []
    },
    {
      "cell_type": "code",
      "source": [
        "data_info(train_df)"
      ],
      "metadata": {
        "colab": {
          "base_uri": "https://localhost:8080/"
        },
        "id": "tMuTbfZt8RUX",
        "outputId": "944fda20-ef1e-4894-e025-9e8d0e4eca42"
      },
      "execution_count": null,
      "outputs": [
        {
          "output_type": "stream",
          "name": "stdout",
          "text": [
            "****************************** HEAD ******************************\n",
            "  country  year    uniqueid bank_account location_type cellphone_access  \\\n",
            "0   Kenya  2018  uniqueid_1          Yes         Rural              Yes   \n",
            "1   Kenya  2018  uniqueid_2           No         Rural               No   \n",
            "2   Kenya  2018  uniqueid_3          Yes         Urban              Yes   \n",
            "3   Kenya  2018  uniqueid_4           No         Rural              Yes   \n",
            "4   Kenya  2018  uniqueid_5           No         Urban               No   \n",
            "\n",
            "   household_size  age_of_respondent gender_of_respondent  \\\n",
            "0               3                 24               Female   \n",
            "1               5                 70               Female   \n",
            "2               5                 26                 Male   \n",
            "3               5                 34               Female   \n",
            "4               8                 26                 Male   \n",
            "\n",
            "  relationship_with_head           marital_status  \\\n",
            "0                 Spouse  Married/Living together   \n",
            "1      Head of Household                  Widowed   \n",
            "2         Other relative     Single/Never Married   \n",
            "3      Head of Household  Married/Living together   \n",
            "4                  Child     Single/Never Married   \n",
            "\n",
            "                   education_level                   job_type  \n",
            "0              Secondary education              Self employed  \n",
            "1              No formal education       Government Dependent  \n",
            "2  Vocational/Specialised training              Self employed  \n",
            "3                Primary education  Formally employed Private  \n",
            "4                Primary education        Informally employed  \n",
            "****************************** COLUMNS ******************************\n",
            "Index(['country', 'year', 'uniqueid', 'bank_account', 'location_type',\n",
            "       'cellphone_access', 'household_size', 'age_of_respondent',\n",
            "       'gender_of_respondent', 'relationship_with_head', 'marital_status',\n",
            "       'education_level', 'job_type'],\n",
            "      dtype='object')\n",
            "****************************** DATA TYPE ******************************\n",
            "<class 'pandas.core.frame.DataFrame'>\n",
            "****************************** SHAPE ******************************\n",
            "(23524, 13)\n",
            "****************************** INFO ******************************\n",
            "<class 'pandas.core.frame.DataFrame'>\n",
            "RangeIndex: 23524 entries, 0 to 23523\n",
            "Data columns (total 13 columns):\n",
            " #   Column                  Non-Null Count  Dtype \n",
            "---  ------                  --------------  ----- \n",
            " 0   country                 23524 non-null  object\n",
            " 1   year                    23524 non-null  int64 \n",
            " 2   uniqueid                23524 non-null  object\n",
            " 3   bank_account            23524 non-null  object\n",
            " 4   location_type           23524 non-null  object\n",
            " 5   cellphone_access        23524 non-null  object\n",
            " 6   household_size          23524 non-null  int64 \n",
            " 7   age_of_respondent       23524 non-null  int64 \n",
            " 8   gender_of_respondent    23524 non-null  object\n",
            " 9   relationship_with_head  23524 non-null  object\n",
            " 10  marital_status          23524 non-null  object\n",
            " 11  education_level         23524 non-null  object\n",
            " 12  job_type                23524 non-null  object\n",
            "dtypes: int64(3), object(10)\n",
            "memory usage: 2.3+ MB\n",
            "None\n",
            "****************************** ISNULL ******************************\n",
            "country                   False\n",
            "year                      False\n",
            "uniqueid                  False\n",
            "bank_account              False\n",
            "location_type             False\n",
            "cellphone_access          False\n",
            "household_size            False\n",
            "age_of_respondent         False\n",
            "gender_of_respondent      False\n",
            "relationship_with_head    False\n",
            "marital_status            False\n",
            "education_level           False\n",
            "job_type                  False\n",
            "dtype: bool\n",
            "****************************** ISNULL COUNT ******************************\n",
            "False    13\n",
            "dtype: int64\n",
            "****************************** DESCRIPTION ******************************\n",
            "               year  household_size  age_of_respondent\n",
            "count  23524.000000    23524.000000       23524.000000\n",
            "mean    2016.975939        3.797483          38.805220\n",
            "std        0.847371        2.227613          16.520569\n",
            "min     2016.000000        1.000000          16.000000\n",
            "25%     2016.000000        2.000000          26.000000\n",
            "50%     2017.000000        3.000000          35.000000\n",
            "75%     2018.000000        5.000000          49.000000\n",
            "max     2018.000000       21.000000         100.000000\n"
          ]
        }
      ]
    },
    {
      "cell_type": "markdown",
      "source": [
        "## INSIGHT FROM FIRST SNOOP"
      ],
      "metadata": {
        "id": "w42TrZoJ9CE4"
      }
    },
    {
      "cell_type": "code",
      "source": [],
      "metadata": {
        "id": "sUr9k53TCiRr"
      },
      "execution_count": null,
      "outputs": []
    },
    {
      "cell_type": "code",
      "source": [
        "# classify each column to its appropriate data type and split\n",
        "def grab_cols(df, cat_th=10, car_th=20):\n",
        "\n",
        "  cat_cols = [col for col in df.columns if df[col].dtypes == 'O']\n",
        "  num_but_cat = [col for col in df.columns if df[col].nunique() < cat_th and df[col].dtypes != 'O']\n",
        "  cat_but_car = [col for col in df.columns if df[col].nunique() > cat_th and df[col].dtypes == 'O']\n",
        "  cat_cols = cat_cols + num_but_cat\n",
        "  cat_col = [col for col in cat_cols if col not in cat_but_car]\n",
        "\n",
        "  num_col = [col for col in df.columns if df[col].dtypes !='O']\n",
        "\n",
        "  num_col = [col for col in num_col if col not in num_but_cat]\n",
        "\n",
        "  print(f'Records: {df.shape[0]}')\n",
        "  print(f'variables: {df.shape[1]}')\n",
        "  print(f'Categorical columns: {len(cat_cols)}')\n",
        "  print(f'Numerical columns: {len(num_col)}')\n",
        "  print(f'cat_but_car: {len(cat_but_car)}')\n",
        "  print(f'num_but_cat: {len(num_but_cat)}')\n",
        "\n",
        "  return cat_cols, num_col, cat_but_car\n",
        "\n",
        "\n"
      ],
      "metadata": {
        "id": "fj4iOdacCuF_"
      },
      "execution_count": null,
      "outputs": []
    },
    {
      "cell_type": "code",
      "source": [
        "cat_cols, num_col, cat_but_car = grab_cols(train_df)"
      ],
      "metadata": {
        "colab": {
          "base_uri": "https://localhost:8080/"
        },
        "id": "CIcMOLIfKyBz",
        "outputId": "5a1b127f-5655-48af-cfcd-fe155d0a770c"
      },
      "execution_count": null,
      "outputs": [
        {
          "output_type": "stream",
          "name": "stdout",
          "text": [
            "Records: 23524\n",
            "variables: 13\n",
            "Categorical columns: 11\n",
            "Numerical columns: 2\n",
            "cat_but_car: 1\n",
            "num_but_cat: 1\n"
          ]
        }
      ]
    },
    {
      "cell_type": "code",
      "source": [
        "cat_cols "
      ],
      "metadata": {
        "colab": {
          "base_uri": "https://localhost:8080/"
        },
        "id": "LgWqj6dEIjuB",
        "outputId": "5d42d74a-0cdd-4944-88c6-86fb2de8bf86"
      },
      "execution_count": null,
      "outputs": [
        {
          "output_type": "execute_result",
          "data": {
            "text/plain": [
              "['country',\n",
              " 'uniqueid',\n",
              " 'bank_account',\n",
              " 'location_type',\n",
              " 'cellphone_access',\n",
              " 'gender_of_respondent',\n",
              " 'relationship_with_head',\n",
              " 'marital_status',\n",
              " 'education_level',\n",
              " 'job_type',\n",
              " 'year']"
            ]
          },
          "metadata": {},
          "execution_count": 13
        }
      ]
    },
    {
      "cell_type": "code",
      "source": [
        "num_col"
      ],
      "metadata": {
        "colab": {
          "base_uri": "https://localhost:8080/"
        },
        "id": "QI9uSMH_LZf4",
        "outputId": "77db9a8d-adb2-46cc-822e-a053144ee729"
      },
      "execution_count": null,
      "outputs": [
        {
          "output_type": "execute_result",
          "data": {
            "text/plain": [
              "['household_size', 'age_of_respondent']"
            ]
          },
          "metadata": {},
          "execution_count": 17
        }
      ]
    },
    {
      "cell_type": "code",
      "source": [
        "cat_but_car"
      ],
      "metadata": {
        "colab": {
          "base_uri": "https://localhost:8080/"
        },
        "id": "c7lA6BLjLbbr",
        "outputId": "b7c66152-a821-4cfa-c03a-3a63a743d0d2"
      },
      "execution_count": null,
      "outputs": [
        {
          "output_type": "execute_result",
          "data": {
            "text/plain": [
              "['uniqueid']"
            ]
          },
          "metadata": {},
          "execution_count": 18
        }
      ]
    },
    {
      "cell_type": "markdown",
      "source": [
        "## Summary Analysis for Categorical Column\n",
        "\n"
      ],
      "metadata": {
        "id": "u8B1cwm9LsZP"
      }
    },
    {
      "cell_type": "code",
      "source": [
        "def summary_cat(df, col, plot=False):\n",
        "\n",
        "  print('*'*20, col.upper(), '*'*20)\n",
        "  print(pd.DataFrame({col.upper(): df[col].value_counts(), 'Ratio %': round(100*(df[col].value_counts() / len(df)))}))\n",
        "\n",
        "  if plot:\n",
        "    sns.countplot(x=df[col])\n",
        "    plt.ylabel('COUNT')\n",
        "    plt.xlabel(col.upper())\n",
        "    plt.show(block=True)\n"
      ],
      "metadata": {
        "id": "MkO4JoFjLrlo"
      },
      "execution_count": null,
      "outputs": []
    },
    {
      "cell_type": "code",
      "source": [
        "for col in cat_cols:\n",
        "  summary_cat(train_df, col, plot=True)\n"
      ],
      "metadata": {
        "colab": {
          "base_uri": "https://localhost:8080/",
          "height": 1000
        },
        "id": "lX2o0N-bOB4o",
        "outputId": "a980ce15-f44b-41f2-d6df-38201fdbad8c"
      },
      "execution_count": null,
      "outputs": [
        {
          "output_type": "stream",
          "name": "stdout",
          "text": [
            "******************** COUNTRY ********************\n",
            "          COUNTRY  Ratio %\n",
            "Rwanda       8735     37.0\n",
            "Tanzania     6620     28.0\n",
            "Kenya        6068     26.0\n",
            "Uganda       2101      9.0\n"
          ]
        },
        {
          "output_type": "display_data",
          "data": {
            "text/plain": [
              "<Figure size 432x288 with 1 Axes>"
            ],
            "image/png": "[encoded data removed]"
          },
          "metadata": {
            "needs_background": "light"
          }
        },
        {
          "output_type": "stream",
          "name": "stdout",
          "text": [
            "******************** UNIQUEID ********************\n",
            "               UNIQUEID  Ratio %\n",
            "uniqueid_1            4      0.0\n",
            "uniqueid_1413         4      0.0\n",
            "uniqueid_1411         4      0.0\n",
            "uniqueid_1410         4      0.0\n",
            "uniqueid_1409         4      0.0\n",
            "...                 ...      ...\n",
            "uniqueid_7318         1      0.0\n",
            "uniqueid_7317         1      0.0\n",
            "uniqueid_7316         1      0.0\n",
            "uniqueid_7315         1      0.0\n",
            "uniqueid_8759         1      0.0\n",
            "\n",
            "[8735 rows x 2 columns]\n"
          ]
        },
        {
          "output_type": "display_data",
          "data": {
            "text/plain": [
              "<Figure size 432x288 with 1 Axes>"
            ],
            "image/png": "[encoded data removed]"
          },
          "metadata": {
            "needs_background": "light"
          }
        },
        {
          "output_type": "stream",
          "name": "stdout",
          "text": [
            "******************** BANK_ACCOUNT ********************\n",
            "     BANK_ACCOUNT  Ratio %\n",
            "No          20212     86.0\n",
            "Yes          3312     14.0\n"
          ]
        },
        {
          "output_type": "display_data",
          "data": {
            "text/plain": [
              "<Figure size 432x288 with 1 Axes>"
            ],
            "image/png": "[encoded data removed]"
          },
          "metadata": {
            "needs_background": "light"
          }
        },
        {
          "output_type": "stream",
          "name": "stdout",
          "text": [
            "******************** LOCATION_TYPE ********************\n",
            "       LOCATION_TYPE  Ratio %\n",
            "Rural          14343     61.0\n",
            "Urban           9181     39.0\n"
          ]
        },
        {
          "output_type": "display_data",
          "data": {
            "text/plain": [
              "<Figure size 432x288 with 1 Axes>"
            ],
            "image/png": "[encoded data removed]"
          },
          "metadata": {
            "needs_background": "light"
          }
        },
        {
          "output_type": "stream",
          "name": "stdout",
          "text": [
            "******************** CELLPHONE_ACCESS ********************\n",
            "     CELLPHONE_ACCESS  Ratio %\n",
            "Yes             17454     74.0\n",
            "No               6070     26.0\n"
          ]
        },
        {
          "output_type": "display_data",
          "data": {
            "text/plain": [
              "<Figure size 432x288 with 1 Axes>"
            ],
            "image/png": "[encoded data removed]"
          },
          "metadata": {
            "needs_background": "light"
          }
        },
        {
          "output_type": "stream",
          "name": "stdout",
          "text": [
            "******************** GENDER_OF_RESPONDENT ********************\n",
            "        GENDER_OF_RESPONDENT  Ratio %\n",
            "Female                 13877     59.0\n",
            "Male                    9647     41.0\n"
          ]
        },
        {
          "output_type": "display_data",
          "data": {
            "text/plain": [
              "<Figure size 432x288 with 1 Axes>"
            ],
            "image/png": "[encoded data removed]"
          },
          "metadata": {
            "needs_background": "light"
          }
        },
        {
          "output_type": "stream",
          "name": "stdout",
          "text": [
            "******************** RELATIONSHIP_WITH_HEAD ********************\n",
            "                     RELATIONSHIP_WITH_HEAD  Ratio %\n",
            "Head of Household                     12831     55.0\n",
            "Spouse                                 6520     28.0\n",
            "Child                                  2229      9.0\n",
            "Parent                                 1086      5.0\n",
            "Other relative                          668      3.0\n",
            "Other non-relatives                     190      1.0\n"
          ]
        },
        {
          "output_type": "display_data",
          "data": {
            "text/plain": [
              "<Figure size 432x288 with 1 Axes>"
            ],
            "image/png": "[encoded data removed]"
          },
          "metadata": {
            "needs_background": "light"
          }
        },
        {
          "output_type": "stream",
          "name": "stdout",
          "text": [
            "******************** MARITAL_STATUS ********************\n",
            "                         MARITAL_STATUS  Ratio %\n",
            "Married/Living together           10749     46.0\n",
            "Single/Never Married               7983     34.0\n",
            "Widowed                            2708     12.0\n",
            "Divorced/Seperated                 2076      9.0\n",
            "Dont know                             8      0.0\n"
          ]
        },
        {
          "output_type": "display_data",
          "data": {
            "text/plain": [
              "<Figure size 432x288 with 1 Axes>"
            ],
            "image/png": "[encoded data removed]"
          },
          "metadata": {
            "needs_background": "light"
          }
        },
        {
          "output_type": "stream",
          "name": "stdout",
          "text": [
            "******************** EDUCATION_LEVEL ********************\n",
            "                                 EDUCATION_LEVEL  Ratio %\n",
            "Primary education                          12791     54.0\n",
            "No formal education                         4515     19.0\n",
            "Secondary education                         4223     18.0\n",
            "Tertiary education                          1157      5.0\n",
            "Vocational/Specialised training              803      3.0\n",
            "Other/Dont know/RTA                           35      0.0\n"
          ]
        },
        {
          "output_type": "display_data",
          "data": {
            "text/plain": [
              "<Figure size 432x288 with 1 Axes>"
            ],
            "image/png": "[encoded data removed]"
          },
          "metadata": {
            "needs_background": "light"
          }
        },
        {
          "output_type": "stream",
          "name": "stdout",
          "text": [
            "******************** JOB_TYPE ********************\n",
            "                              JOB_TYPE  Ratio %\n",
            "Self employed                     6437     27.0\n",
            "Informally employed               5597     24.0\n",
            "Farming and Fishing               5441     23.0\n",
            "Remittance Dependent              2527     11.0\n",
            "Other Income                      1080      5.0\n",
            "Formally employed Private         1055      4.0\n",
            "No Income                          627      3.0\n",
            "Formally employed Government       387      2.0\n",
            "Government Dependent               247      1.0\n",
            "Dont Know/Refuse to answer         126      1.0\n"
          ]
        },
        {
          "output_type": "display_data",
          "data": {
            "text/plain": [
              "<Figure size 432x288 with 1 Axes>"
            ],
            "image/png": "[encoded data removed]"
          },
          "metadata": {
            "needs_background": "light"
          }
        },
        {
          "output_type": "stream",
          "name": "stdout",
          "text": [
            "******************** YEAR ********************\n",
            "      YEAR  Ratio %\n",
            "2016  8735     37.0\n",
            "2018  8169     35.0\n",
            "2017  6620     28.0\n"
          ]
        },
        {
          "output_type": "display_data",
          "data": {
            "text/plain": [
              "<Figure size 432x288 with 1 Axes>"
            ],
            "image/png": "[encoded data removed]"
          },
          "metadata": {
            "needs_background": "light"
          }
        }
      ]
    },
    {
      "cell_type": "markdown",
      "source": [
        "## Summary Analysis for Numerical columns"
      ],
      "metadata": {
        "id": "PxPd5JUF7Of2"
      }
    },
    {
      "cell_type": "code",
      "source": [
        "def summary_num(df, numerical_col, plot=False):\n",
        "  print('*'*20, col.upper(), '*'*20)\n",
        "  print(pd.DataFrame({numerical_col.upper(): round(df[numerical_col].describe().T, 2)}))\n",
        "\n",
        "\n",
        "  if plot:\n",
        "    plt.figure(figsize=(10,4))\n",
        "    plt.subplot(1,2,1)\n",
        "    sns.boxplot(y=df[numerical_col])\n",
        "    plt.ylabel(numerical_col.upper())\n",
        "\n",
        "    plt.subplot(1,2,2)\n",
        "    sns.histplot(x=df[numerical_col])\n",
        "    plt.xlabel(numerical_col.upper())\n",
        "    plt.show(block=True)"
      ],
      "metadata": {
        "id": "G2aazhJt7ZW7"
      },
      "execution_count": null,
      "outputs": []
    },
    {
      "cell_type": "code",
      "source": [
        "for col in num_col:\n",
        "  summary_num(train_df, col, plot=True)"
      ],
      "metadata": {
        "colab": {
          "base_uri": "https://localhost:8080/",
          "height": 890
        },
        "id": "xx_poowN7NRh",
        "outputId": "639847cd-6d8b-4013-b2a6-c312ff3825b4"
      },
      "execution_count": null,
      "outputs": [
        {
          "output_type": "stream",
          "name": "stdout",
          "text": [
            "******************** HOUSEHOLD_SIZE ********************\n",
            "       HOUSEHOLD_SIZE\n",
            "count        23524.00\n",
            "mean             3.80\n",
            "std              2.23\n",
            "min              1.00\n",
            "25%              2.00\n",
            "50%              3.00\n",
            "75%              5.00\n",
            "max             21.00\n"
          ]
        },
        {
          "output_type": "display_data",
          "data": {
            "text/plain": [
              "<Figure size 720x288 with 2 Axes>"
            ],
            "image/png": "[encoded data removed]"
          },
          "metadata": {
            "needs_background": "light"
          }
        },
        {
          "output_type": "stream",
          "name": "stdout",
          "text": [
            "******************** AGE_OF_RESPONDENT ********************\n",
            "       AGE_OF_RESPONDENT\n",
            "count           23524.00\n",
            "mean               38.81\n",
            "std                16.52\n",
            "min                16.00\n",
            "25%                26.00\n",
            "50%                35.00\n",
            "75%                49.00\n",
            "max               100.00\n"
          ]
        },
        {
          "output_type": "display_data",
          "data": {
            "text/plain": [
              "<Figure size 720x288 with 2 Axes>"
            ],
            "image/png": "[encoded data removed]"
          },
          "metadata": {
            "needs_background": "light"
          }
        }
      ]
    },
    {
      "cell_type": "markdown",
      "source": [],
      "metadata": {
        "id": "8rDrDidU-t7P"
      }
    },
    {
      "cell_type": "code",
      "source": [],
      "metadata": {
        "id": "hPYEWxzq-vAy"
      },
      "execution_count": null,
      "outputs": []
    },
    {
      "cell_type": "markdown",
      "source": [
        "## Data Preprocessing Stage 1 (Encoding and Heatmap)\n"
      ],
      "metadata": {
        "id": "X_MO-rTCDjxI"
      }
    },
    {
      "cell_type": "code",
      "source": [
        "train_df2 = train_df.copy(deep=True)"
      ],
      "metadata": {
        "id": "R822g1EgC8Eg"
      },
      "execution_count": null,
      "outputs": []
    },
    {
      "cell_type": "code",
      "source": [
        "# Label Encoding for binary classes\n",
        "def label_encoder(df, binary_col):\n",
        "\n",
        "  label_encoder = LabelEncoder()\n",
        "  df[binary_col] = label_encoder.fit_transform(df[binary_col])\n",
        "\n",
        "  return df\n",
        "\n",
        "binary_cols = [col for col in train_df2.columns if train_df2[col].nunique() == 2 and train_df2[col].dtypes not in ('int', 'float')]\n",
        "\n",
        "for col in binary_cols:\n",
        "    label_encoder(train_df2, col)\n",
        "  "
      ],
      "metadata": {
        "id": "2lWVIge8Cg8T"
      },
      "execution_count": null,
      "outputs": []
    },
    {
      "cell_type": "code",
      "source": [
        "train_df2.shape"
      ],
      "metadata": {
        "colab": {
          "base_uri": "https://localhost:8080/"
        },
        "id": "-FGSEYZCDUJ4",
        "outputId": "d8c4b012-dcc8-48e6-e7b4-83312a6eaf39"
      },
      "execution_count": null,
      "outputs": [
        {
          "output_type": "execute_result",
          "data": {
            "text/plain": [
              "(23524, 13)"
            ]
          },
          "metadata": {},
          "execution_count": 25
        }
      ]
    },
    {
      "cell_type": "code",
      "source": [
        "train_df2.head()\n",
        "\n",
        "# Location type = {urban: 0, rurual:1}\n",
        "# Cellphone access = {yes:1, no: 0}\n",
        "# gender_of_respondent = {male:0, female:1}"
      ],
      "metadata": {
        "colab": {
          "base_uri": "https://localhost:8080/",
          "height": 374
        },
        "id": "4IX3b2-GDqSh",
        "outputId": "8aedb71a-ab70-45c8-de9b-2179c0e7bd21"
      },
      "execution_count": null,
      "outputs": [
        {
          "output_type": "execute_result",
          "data": {
            "text/plain": [
              "  country  year    uniqueid  bank_account  location_type  cellphone_access  \\\n",
              "0   Kenya  2018  uniqueid_1             1              0                 1   \n",
              "1   Kenya  2018  uniqueid_2             0              0                 0   \n",
              "2   Kenya  2018  uniqueid_3             1              1                 1   \n",
              "3   Kenya  2018  uniqueid_4             0              0                 1   \n",
              "4   Kenya  2018  uniqueid_5             0              1                 0   \n",
              "\n",
              "   household_size  age_of_respondent  gender_of_respondent  \\\n",
              "0               3                 24                     0   \n",
              "1               5                 70                     0   \n",
              "2               5                 26                     1   \n",
              "3               5                 34                     0   \n",
              "4               8                 26                     1   \n",
              "\n",
              "  relationship_with_head           marital_status  \\\n",
              "0                 Spouse  Married/Living together   \n",
              "1      Head of Household                  Widowed   \n",
              "2         Other relative     Single/Never Married   \n",
              "3      Head of Household  Married/Living together   \n",
              "4                  Child     Single/Never Married   \n",
              "\n",
              "                   education_level                   job_type  \n",
              "0              Secondary education              Self employed  \n",
              "1              No formal education       Government Dependent  \n",
              "2  Vocational/Specialised training              Self employed  \n",
              "3                Primary education  Formally employed Private  \n",
              "4                Primary education        Informally employed  "
            ],
            "text/html": [
              "\n",
              "  <div id=\"df-ead6995d-118c-4f28-8aaa-b8efefa87547\">\n",
              "    <div class=\"colab-df-container\">\n",
              "      <div>\n",
              "<style scoped>\n",
              "    .dataframe tbody tr th:only-of-type {\n",
              "        vertical-align: middle;\n",
              "    }\n",
              "\n",
              "    .dataframe tbody tr th {\n",
              "        vertical-align: top;\n",
              "    }\n",
              "\n",
              "    .dataframe thead th {\n",
              "        text-align: right;\n",
              "    }\n",
              "</style>\n",
              "<table border=\"1\" class=\"dataframe\">\n",
              "  <thead>\n",
              "    <tr style=\"text-align: right;\">\n",
              "      <th></th>\n",
              "      <th>country</th>\n",
              "      <th>year</th>\n",
              "      <th>uniqueid</th>\n",
              "      <th>bank_account</th>\n",
              "      <th>location_type</th>\n",
              "      <th>cellphone_access</th>\n",
              "      <th>household_size</th>\n",
              "      <th>age_of_respondent</th>\n",
              "      <th>gender_of_respondent</th>\n",
              "      <th>relationship_with_head</th>\n",
              "      <th>marital_status</th>\n",
              "      <th>education_level</th>\n",
              "      <th>job_type</th>\n",
              "    </tr>\n",
              "  </thead>\n",
              "  <tbody>\n",
              "    <tr>\n",
              "      <th>0</th>\n",
              "      <td>Kenya</td>\n",
              "      <td>2018</td>\n",
              "      <td>uniqueid_1</td>\n",
              "      <td>1</td>\n",
              "      <td>0</td>\n",
              "      <td>1</td>\n",
              "      <td>3</td>\n",
              "      <td>24</td>\n",
              "      <td>0</td>\n",
              "      <td>Spouse</td>\n",
              "      <td>Married/Living together</td>\n",
              "      <td>Secondary education</td>\n",
              "      <td>Self employed</td>\n",
              "    </tr>\n",
              "    <tr>\n",
              "      <th>1</th>\n",
              "      <td>Kenya</td>\n",
              "      <td>2018</td>\n",
              "      <td>uniqueid_2</td>\n",
              "      <td>0</td>\n",
              "      <td>0</td>\n",
              "      <td>0</td>\n",
              "      <td>5</td>\n",
              "      <td>70</td>\n",
              "      <td>0</td>\n",
              "      <td>Head of Household</td>\n",
              "      <td>Widowed</td>\n",
              "      <td>No formal education</td>\n",
              "      <td>Government Dependent</td>\n",
              "    </tr>\n",
              "    <tr>\n",
              "      <th>2</th>\n",
              "      <td>Kenya</td>\n",
              "      <td>2018</td>\n",
              "      <td>uniqueid_3</td>\n",
              "      <td>1</td>\n",
              "      <td>1</td>\n",
              "      <td>1</td>\n",
              "      <td>5</td>\n",
              "      <td>26</td>\n",
              "      <td>1</td>\n",
              "      <td>Other relative</td>\n",
              "      <td>Single/Never Married</td>\n",
              "      <td>Vocational/Specialised training</td>\n",
              "      <td>Self employed</td>\n",
              "    </tr>\n",
              "    <tr>\n",
              "      <th>3</th>\n",
              "      <td>Kenya</td>\n",
              "      <td>2018</td>\n",
              "      <td>uniqueid_4</td>\n",
              "      <td>0</td>\n",
              "      <td>0</td>\n",
              "      <td>1</td>\n",
              "      <td>5</td>\n",
              "      <td>34</td>\n",
              "      <td>0</td>\n",
              "      <td>Head of Household</td>\n",
              "      <td>Married/Living together</td>\n",
              "      <td>Primary education</td>\n",
              "      <td>Formally employed Private</td>\n",
              "    </tr>\n",
              "    <tr>\n",
              "      <th>4</th>\n",
              "      <td>Kenya</td>\n",
              "      <td>2018</td>\n",
              "      <td>uniqueid_5</td>\n",
              "      <td>0</td>\n",
              "      <td>1</td>\n",
              "      <td>0</td>\n",
              "      <td>8</td>\n",
              "      <td>26</td>\n",
              "      <td>1</td>\n",
              "      <td>Child</td>\n",
              "      <td>Single/Never Married</td>\n",
              "      <td>Primary education</td>\n",
              "      <td>Informally employed</td>\n",
              "    </tr>\n",
              "  </tbody>\n",
              "</table>\n",
              "</div>\n",
              "      <button class=\"colab-df-convert\" onclick=\"convertToInteractive('df-ead6995d-118c-4f28-8aaa-b8efefa87547')\"\n",
              "              title=\"Convert this dataframe to an interactive table.\"\n",
              "              style=\"display:none;\">\n",
              "        \n",
              "  <svg xmlns=\"http://www.w3.org/2000/svg\" height=\"24px\"viewBox=\"0 0 24 24\"\n",
              "       width=\"24px\">\n",
              "    <path d=\"M0 0h24v24H0V0z\" fill=\"none\"/>\n",
              "    <path d=\"M18.56 5.44l.94 2.06.94-2.06 2.06-.94-2.06-.94-.94-2.06-.94 2.06-2.06.94zm-11 1L8.5 8.5l.94-2.06 2.06-.94-2.06-.94L8.5 2.5l-.94 2.06-2.06.94zm10 10l.94 2.06.94-2.06 2.06-.94-2.06-.94-.94-2.06-.94 2.06-2.06.94z\"/><path d=\"M17.41 7.96l-1.37-1.37c-.4-.4-.92-.59-1.43-.59-.52 0-1.04.2-1.43.59L10.3 9.45l-7.72 7.72c-.78.78-.78 2.05 0 2.83L4 21.41c.39.39.9.59 1.41.59.51 0 1.02-.2 1.41-.59l7.78-7.78 2.81-2.81c.8-.78.8-2.07 0-2.86zM5.41 20L4 18.59l7.72-7.72 1.47 1.35L5.41 20z\"/>\n",
              "  </svg>\n",
              "      </button>\n",
              "      \n",
              "  <style>\n",
              "    .colab-df-container {\n",
              "      display:flex;\n",
              "      flex-wrap:wrap;\n",
              "      gap: 12px;\n",
              "    }\n",
              "\n",
              "    .colab-df-convert {\n",
              "      background-color: #E8F0FE;\n",
              "      border: none;\n",
              "      border-radius: 50%;\n",
              "      cursor: pointer;\n",
              "      display: none;\n",
              "      fill: #1967D2;\n",
              "      height: 32px;\n",
              "      padding: 0 0 0 0;\n",
              "      width: 32px;\n",
              "    }\n",
              "\n",
              "    .colab-df-convert:hover {\n",
              "      background-color: #E2EBFA;\n",
              "      box-shadow: 0px 1px 2px rgba(60, 64, 67, 0.3), 0px 1px 3px 1px rgba(60, 64, 67, 0.15);\n",
              "      fill: #174EA6;\n",
              "    }\n",
              "\n",
              "    [theme=dark] .colab-df-convert {\n",
              "      background-color: #3B4455;\n",
              "      fill: #D2E3FC;\n",
              "    }\n",
              "\n",
              "    [theme=dark] .colab-df-convert:hover {\n",
              "      background-color: #434B5C;\n",
              "      box-shadow: 0px 1px 3px 1px rgba(0, 0, 0, 0.15);\n",
              "      filter: drop-shadow(0px 1px 2px rgba(0, 0, 0, 0.3));\n",
              "      fill: #FFFFFF;\n",
              "    }\n",
              "  </style>\n",
              "\n",
              "      <script>\n",
              "        const buttonEl =\n",
              "          document.querySelector('#df-ead6995d-118c-4f28-8aaa-b8efefa87547 button.colab-df-convert');\n",
              "        buttonEl.style.display =\n",
              "          google.colab.kernel.accessAllowed ? 'block' : 'none';\n",
              "\n",
              "        async function convertToInteractive(key) {\n",
              "          const element = document.querySelector('#df-ead6995d-118c-4f28-8aaa-b8efefa87547');\n",
              "          const dataTable =\n",
              "            await google.colab.kernel.invokeFunction('convertToInteractive',\n",
              "                                                     [key], {});\n",
              "          if (!dataTable) return;\n",
              "\n",
              "          const docLinkHtml = 'Like what you see? Visit the ' +\n",
              "            '<a target=\"_blank\" href=https://colab.research.google.com/notebooks/data_table.ipynb>data table notebook</a>'\n",
              "            + ' to learn more about interactive tables.';\n",
              "          element.innerHTML = '';\n",
              "          dataTable['output_type'] = 'display_data';\n",
              "          await google.colab.output.renderOutput(dataTable, element);\n",
              "          const docLink = document.createElement('div');\n",
              "          docLink.innerHTML = docLinkHtml;\n",
              "          element.appendChild(docLink);\n",
              "        }\n",
              "      </script>\n",
              "    </div>\n",
              "  </div>\n",
              "  "
            ]
          },
          "metadata": {},
          "execution_count": 26
        }
      ]
    },
    {
      "cell_type": "code",
      "source": [
        "def high_correlated_cols(dataframe, corr_th=0.90, plot=False):\n",
        "    corr = dataframe.corr()\n",
        "    cor_matrix = corr.abs()\n",
        "    upper_triangle_matrix = cor_matrix.where(np.triu(np.ones(cor_matrix.shape), k=1).astype(np.bool_))\n",
        "    drop_list = [col for col in upper_triangle_matrix.columns if any(upper_triangle_matrix[col] > corr_th)]\n",
        "\n",
        "    if plot:\n",
        "        plt.figure(figsize=(12, 8))\n",
        "        sns.heatmap(corr, cmap='RdBu', annot=True, annot_kws={'fontsize': 10})\n",
        "        plt.show(block=True)\n",
        "\n",
        "    return drop_list\n",
        "\n",
        "high_correlated_cols(train_df2, plot=True)  "
      ],
      "metadata": {
        "colab": {
          "base_uri": "https://localhost:8080/",
          "height": 594
        },
        "id": "rCMffznWE3vY",
        "outputId": "c27d8483-463d-43f3-f472-aa3facfe9861"
      },
      "execution_count": null,
      "outputs": [
        {
          "output_type": "display_data",
          "data": {
            "text/plain": [
              "<Figure size 864x576 with 2 Axes>"
            ],
            "image/png": "[encoded data removed]"
          },
          "metadata": {}
        },
        {
          "output_type": "execute_result",
          "data": {
            "text/plain": [
              "[]"
            ]
          },
          "metadata": {},
          "execution_count": 27
        }
      ]
    },
    {
      "cell_type": "code",
      "source": [
        "ohe_cols = ['country', 'year', 'relationship_with_head', 'marital_status', 'education_level', 'job_type']"
      ],
      "metadata": {
        "id": "ZVLQChkeHy3W"
      },
      "execution_count": null,
      "outputs": []
    },
    {
      "cell_type": "code",
      "source": [
        "# OneHot Encoding\n",
        "def one_hot_encoder(dataframe, ohe_cols, drop_first=True):\n",
        "    dataframe = pd.get_dummies(dataframe, columns = ohe_cols, drop_first=drop_first)\n",
        "    return dataframe\n",
        "\n",
        "train_df3 = one_hot_encoder(train_df2, ohe_cols)\n",
        "train_df3"
      ],
      "metadata": {
        "colab": {
          "base_uri": "https://localhost:8080/",
          "height": 522
        },
        "id": "ulD4Lb_CFogt",
        "outputId": "86a8191e-acb8-4d42-9b06-92e62bba690b"
      },
      "execution_count": null,
      "outputs": [
        {
          "output_type": "execute_result",
          "data": {
            "text/plain": [
              "            uniqueid  bank_account  location_type  cellphone_access  \\\n",
              "0         uniqueid_1             1              0                 1   \n",
              "1         uniqueid_2             0              0                 0   \n",
              "2         uniqueid_3             1              1                 1   \n",
              "3         uniqueid_4             0              0                 1   \n",
              "4         uniqueid_5             0              1                 0   \n",
              "...              ...           ...            ...               ...   \n",
              "23519  uniqueid_2113             0              0                 1   \n",
              "23520  uniqueid_2114             0              0                 1   \n",
              "23521  uniqueid_2115             0              0                 1   \n",
              "23522  uniqueid_2116             0              1                 1   \n",
              "23523  uniqueid_2117             0              0                 1   \n",
              "\n",
              "       household_size  age_of_respondent  gender_of_respondent  \\\n",
              "0                   3                 24                     0   \n",
              "1                   5                 70                     0   \n",
              "2                   5                 26                     1   \n",
              "3                   5                 34                     0   \n",
              "4                   8                 26                     1   \n",
              "...               ...                ...                   ...   \n",
              "23519               4                 48                     0   \n",
              "23520               2                 27                     0   \n",
              "23521               5                 27                     0   \n",
              "23522               7                 30                     0   \n",
              "23523              10                 20                     1   \n",
              "\n",
              "       country_Rwanda  country_Tanzania  country_Uganda  ...  \\\n",
              "0                   0                 0               0  ...   \n",
              "1                   0                 0               0  ...   \n",
              "2                   0                 0               0  ...   \n",
              "3                   0                 0               0  ...   \n",
              "4                   0                 0               0  ...   \n",
              "...               ...               ...             ...  ...   \n",
              "23519               0                 0               1  ...   \n",
              "23520               0                 0               1  ...   \n",
              "23521               0                 0               1  ...   \n",
              "23522               0                 0               1  ...   \n",
              "23523               0                 0               1  ...   \n",
              "\n",
              "       education_level_Vocational/Specialised training  \\\n",
              "0                                                    0   \n",
              "1                                                    0   \n",
              "2                                                    1   \n",
              "3                                                    0   \n",
              "4                                                    0   \n",
              "...                                                ...   \n",
              "23519                                                0   \n",
              "23520                                                0   \n",
              "23521                                                0   \n",
              "23522                                                0   \n",
              "23523                                                0   \n",
              "\n",
              "       job_type_Farming and Fishing  job_type_Formally employed Government  \\\n",
              "0                                 0                                      0   \n",
              "1                                 0                                      0   \n",
              "2                                 0                                      0   \n",
              "3                                 0                                      0   \n",
              "4                                 0                                      0   \n",
              "...                             ...                                    ...   \n",
              "23519                             0                                      0   \n",
              "23520                             0                                      0   \n",
              "23521                             0                                      0   \n",
              "23522                             0                                      0   \n",
              "23523                             0                                      0   \n",
              "\n",
              "       job_type_Formally employed Private  job_type_Government Dependent  \\\n",
              "0                                       0                              0   \n",
              "1                                       0                              1   \n",
              "2                                       0                              0   \n",
              "3                                       1                              0   \n",
              "4                                       0                              0   \n",
              "...                                   ...                            ...   \n",
              "23519                                   0                              0   \n",
              "23520                                   0                              0   \n",
              "23521                                   0                              0   \n",
              "23522                                   0                              0   \n",
              "23523                                   0                              0   \n",
              "\n",
              "       job_type_Informally employed  job_type_No Income  \\\n",
              "0                                 0                   0   \n",
              "1                                 0                   0   \n",
              "2                                 0                   0   \n",
              "3                                 0                   0   \n",
              "4                                 1                   0   \n",
              "...                             ...                 ...   \n",
              "23519                             0                   0   \n",
              "23520                             0                   0   \n",
              "23521                             0                   0   \n",
              "23522                             0                   0   \n",
              "23523                             0                   1   \n",
              "\n",
              "       job_type_Other Income  job_type_Remittance Dependent  \\\n",
              "0                          0                              0   \n",
              "1                          0                              0   \n",
              "2                          0                              0   \n",
              "3                          0                              0   \n",
              "4                          0                              0   \n",
              "...                      ...                            ...   \n",
              "23519                      1                              0   \n",
              "23520                      1                              0   \n",
              "23521                      1                              0   \n",
              "23522                      0                              0   \n",
              "23523                      0                              0   \n",
              "\n",
              "       job_type_Self employed  \n",
              "0                           1  \n",
              "1                           0  \n",
              "2                           1  \n",
              "3                           0  \n",
              "4                           0  \n",
              "...                       ...  \n",
              "23519                       0  \n",
              "23520                       0  \n",
              "23521                       0  \n",
              "23522                       1  \n",
              "23523                       0  \n",
              "\n",
              "[23524 rows x 35 columns]"
            ],
            "text/html": [
              "\n",
              "  <div id=\"df-2dc29e3b-db97-44d9-b36b-9557b659aa0b\">\n",
              "    <div class=\"colab-df-container\">\n",
              "      <div>\n",
              "<style scoped>\n",
              "    .dataframe tbody tr th:only-of-type {\n",
              "        vertical-align: middle;\n",
              "    }\n",
              "\n",
              "    .dataframe tbody tr th {\n",
              "        vertical-align: top;\n",
              "    }\n",
              "\n",
              "    .dataframe thead th {\n",
              "        text-align: right;\n",
              "    }\n",
              "</style>\n",
              "<table border=\"1\" class=\"dataframe\">\n",
              "  <thead>\n",
              "    <tr style=\"text-align: right;\">\n",
              "      <th></th>\n",
              "      <th>uniqueid</th>\n",
              "      <th>bank_account</th>\n",
              "      <th>location_type</th>\n",
              "      <th>cellphone_access</th>\n",
              "      <th>household_size</th>\n",
              "      <th>age_of_respondent</th>\n",
              "      <th>gender_of_respondent</th>\n",
              "      <th>country_Rwanda</th>\n",
              "      <th>country_Tanzania</th>\n",
              "      <th>country_Uganda</th>\n",
              "      <th>...</th>\n",
              "      <th>education_level_Vocational/Specialised training</th>\n",
              "      <th>job_type_Farming and Fishing</th>\n",
              "      <th>job_type_Formally employed Government</th>\n",
              "      <th>job_type_Formally employed Private</th>\n",
              "      <th>job_type_Government Dependent</th>\n",
              "      <th>job_type_Informally employed</th>\n",
              "      <th>job_type_No Income</th>\n",
              "      <th>job_type_Other Income</th>\n",
              "      <th>job_type_Remittance Dependent</th>\n",
              "      <th>job_type_Self employed</th>\n",
              "    </tr>\n",
              "  </thead>\n",
              "  <tbody>\n",
              "    <tr>\n",
              "      <th>0</th>\n",
              "      <td>uniqueid_1</td>\n",
              "      <td>1</td>\n",
              "      <td>0</td>\n",
              "      <td>1</td>\n",
              "      <td>3</td>\n",
              "      <td>24</td>\n",
              "      <td>0</td>\n",
              "      <td>0</td>\n",
              "      <td>0</td>\n",
              "      <td>0</td>\n",
              "      <td>...</td>\n",
              "      <td>0</td>\n",
              "      <td>0</td>\n",
              "      <td>0</td>\n",
              "      <td>0</td>\n",
              "      <td>0</td>\n",
              "      <td>0</td>\n",
              "      <td>0</td>\n",
              "      <td>0</td>\n",
              "      <td>0</td>\n",
              "      <td>1</td>\n",
              "    </tr>\n",
              "    <tr>\n",
              "      <th>1</th>\n",
              "      <td>uniqueid_2</td>\n",
              "      <td>0</td>\n",
              "      <td>0</td>\n",
              "      <td>0</td>\n",
              "      <td>5</td>\n",
              "      <td>70</td>\n",
              "      <td>0</td>\n",
              "      <td>0</td>\n",
              "      <td>0</td>\n",
              "      <td>0</td>\n",
              "      <td>...</td>\n",
              "      <td>0</td>\n",
              "      <td>0</td>\n",
              "      <td>0</td>\n",
              "      <td>0</td>\n",
              "      <td>1</td>\n",
              "      <td>0</td>\n",
              "      <td>0</td>\n",
              "      <td>0</td>\n",
              "      <td>0</td>\n",
              "      <td>0</td>\n",
              "    </tr>\n",
              "    <tr>\n",
              "      <th>2</th>\n",
              "      <td>uniqueid_3</td>\n",
              "      <td>1</td>\n",
              "      <td>1</td>\n",
              "      <td>1</td>\n",
              "      <td>5</td>\n",
              "      <td>26</td>\n",
              "      <td>1</td>\n",
              "      <td>0</td>\n",
              "      <td>0</td>\n",
              "      <td>0</td>\n",
              "      <td>...</td>\n",
              "      <td>1</td>\n",
              "      <td>0</td>\n",
              "      <td>0</td>\n",
              "      <td>0</td>\n",
              "      <td>0</td>\n",
              "      <td>0</td>\n",
              "      <td>0</td>\n",
              "      <td>0</td>\n",
              "      <td>0</td>\n",
              "      <td>1</td>\n",
              "    </tr>\n",
              "    <tr>\n",
              "      <th>3</th>\n",
              "      <td>uniqueid_4</td>\n",
              "      <td>0</td>\n",
              "      <td>0</td>\n",
              "      <td>1</td>\n",
              "      <td>5</td>\n",
              "      <td>34</td>\n",
              "      <td>0</td>\n",
              "      <td>0</td>\n",
              "      <td>0</td>\n",
              "      <td>0</td>\n",
              "      <td>...</td>\n",
              "      <td>0</td>\n",
              "      <td>0</td>\n",
              "      <td>0</td>\n",
              "      <td>1</td>\n",
              "      <td>0</td>\n",
              "      <td>0</td>\n",
              "      <td>0</td>\n",
              "      <td>0</td>\n",
              "      <td>0</td>\n",
              "      <td>0</td>\n",
              "    </tr>\n",
              "    <tr>\n",
              "      <th>4</th>\n",
              "      <td>uniqueid_5</td>\n",
              "      <td>0</td>\n",
              "      <td>1</td>\n",
              "      <td>0</td>\n",
              "      <td>8</td>\n",
              "      <td>26</td>\n",
              "      <td>1</td>\n",
              "      <td>0</td>\n",
              "      <td>0</td>\n",
              "      <td>0</td>\n",
              "      <td>...</td>\n",
              "      <td>0</td>\n",
              "      <td>0</td>\n",
              "      <td>0</td>\n",
              "      <td>0</td>\n",
              "      <td>0</td>\n",
              "      <td>1</td>\n",
              "      <td>0</td>\n",
              "      <td>0</td>\n",
              "      <td>0</td>\n",
              "      <td>0</td>\n",
              "    </tr>\n",
              "    <tr>\n",
              "      <th>...</th>\n",
              "      <td>...</td>\n",
              "      <td>...</td>\n",
              "      <td>...</td>\n",
              "      <td>...</td>\n",
              "      <td>...</td>\n",
              "      <td>...</td>\n",
              "      <td>...</td>\n",
              "      <td>...</td>\n",
              "      <td>...</td>\n",
              "      <td>...</td>\n",
              "      <td>...</td>\n",
              "      <td>...</td>\n",
              "      <td>...</td>\n",
              "      <td>...</td>\n",
              "      <td>...</td>\n",
              "      <td>...</td>\n",
              "      <td>...</td>\n",
              "      <td>...</td>\n",
              "      <td>...</td>\n",
              "      <td>...</td>\n",
              "      <td>...</td>\n",
              "    </tr>\n",
              "    <tr>\n",
              "      <th>23519</th>\n",
              "      <td>uniqueid_2113</td>\n",
              "      <td>0</td>\n",
              "      <td>0</td>\n",
              "      <td>1</td>\n",
              "      <td>4</td>\n",
              "      <td>48</td>\n",
              "      <td>0</td>\n",
              "      <td>0</td>\n",
              "      <td>0</td>\n",
              "      <td>1</td>\n",
              "      <td>...</td>\n",
              "      <td>0</td>\n",
              "      <td>0</td>\n",
              "      <td>0</td>\n",
              "      <td>0</td>\n",
              "      <td>0</td>\n",
              "      <td>0</td>\n",
              "      <td>0</td>\n",
              "      <td>1</td>\n",
              "      <td>0</td>\n",
              "      <td>0</td>\n",
              "    </tr>\n",
              "    <tr>\n",
              "      <th>23520</th>\n",
              "      <td>uniqueid_2114</td>\n",
              "      <td>0</td>\n",
              "      <td>0</td>\n",
              "      <td>1</td>\n",
              "      <td>2</td>\n",
              "      <td>27</td>\n",
              "      <td>0</td>\n",
              "      <td>0</td>\n",
              "      <td>0</td>\n",
              "      <td>1</td>\n",
              "      <td>...</td>\n",
              "      <td>0</td>\n",
              "      <td>0</td>\n",
              "      <td>0</td>\n",
              "      <td>0</td>\n",
              "      <td>0</td>\n",
              "      <td>0</td>\n",
              "      <td>0</td>\n",
              "      <td>1</td>\n",
              "      <td>0</td>\n",
              "      <td>0</td>\n",
              "    </tr>\n",
              "    <tr>\n",
              "      <th>23521</th>\n",
              "      <td>uniqueid_2115</td>\n",
              "      <td>0</td>\n",
              "      <td>0</td>\n",
              "      <td>1</td>\n",
              "      <td>5</td>\n",
              "      <td>27</td>\n",
              "      <td>0</td>\n",
              "      <td>0</td>\n",
              "      <td>0</td>\n",
              "      <td>1</td>\n",
              "      <td>...</td>\n",
              "      <td>0</td>\n",
              "      <td>0</td>\n",
              "      <td>0</td>\n",
              "      <td>0</td>\n",
              "      <td>0</td>\n",
              "      <td>0</td>\n",
              "      <td>0</td>\n",
              "      <td>1</td>\n",
              "      <td>0</td>\n",
              "      <td>0</td>\n",
              "    </tr>\n",
              "    <tr>\n",
              "      <th>23522</th>\n",
              "      <td>uniqueid_2116</td>\n",
              "      <td>0</td>\n",
              "      <td>1</td>\n",
              "      <td>1</td>\n",
              "      <td>7</td>\n",
              "      <td>30</td>\n",
              "      <td>0</td>\n",
              "      <td>0</td>\n",
              "      <td>0</td>\n",
              "      <td>1</td>\n",
              "      <td>...</td>\n",
              "      <td>0</td>\n",
              "      <td>0</td>\n",
              "      <td>0</td>\n",
              "      <td>0</td>\n",
              "      <td>0</td>\n",
              "      <td>0</td>\n",
              "      <td>0</td>\n",
              "      <td>0</td>\n",
              "      <td>0</td>\n",
              "      <td>1</td>\n",
              "    </tr>\n",
              "    <tr>\n",
              "      <th>23523</th>\n",
              "      <td>uniqueid_2117</td>\n",
              "      <td>0</td>\n",
              "      <td>0</td>\n",
              "      <td>1</td>\n",
              "      <td>10</td>\n",
              "      <td>20</td>\n",
              "      <td>1</td>\n",
              "      <td>0</td>\n",
              "      <td>0</td>\n",
              "      <td>1</td>\n",
              "      <td>...</td>\n",
              "      <td>0</td>\n",
              "      <td>0</td>\n",
              "      <td>0</td>\n",
              "      <td>0</td>\n",
              "      <td>0</td>\n",
              "      <td>0</td>\n",
              "      <td>1</td>\n",
              "      <td>0</td>\n",
              "      <td>0</td>\n",
              "      <td>0</td>\n",
              "    </tr>\n",
              "  </tbody>\n",
              "</table>\n",
              "<p>23524 rows × 35 columns</p>\n",
              "</div>\n",
              "      <button class=\"colab-df-convert\" onclick=\"convertToInteractive('df-2dc29e3b-db97-44d9-b36b-9557b659aa0b')\"\n",
              "              title=\"Convert this dataframe to an interactive table.\"\n",
              "              style=\"display:none;\">\n",
              "        \n",
              "  <svg xmlns=\"http://www.w3.org/2000/svg\" height=\"24px\"viewBox=\"0 0 24 24\"\n",
              "       width=\"24px\">\n",
              "    <path d=\"M0 0h24v24H0V0z\" fill=\"none\"/>\n",
              "    <path d=\"M18.56 5.44l.94 2.06.94-2.06 2.06-.94-2.06-.94-.94-2.06-.94 2.06-2.06.94zm-11 1L8.5 8.5l.94-2.06 2.06-.94-2.06-.94L8.5 2.5l-.94 2.06-2.06.94zm10 10l.94 2.06.94-2.06 2.06-.94-2.06-.94-.94-2.06-.94 2.06-2.06.94z\"/><path d=\"M17.41 7.96l-1.37-1.37c-.4-.4-.92-.59-1.43-.59-.52 0-1.04.2-1.43.59L10.3 9.45l-7.72 7.72c-.78.78-.78 2.05 0 2.83L4 21.41c.39.39.9.59 1.41.59.51 0 1.02-.2 1.41-.59l7.78-7.78 2.81-2.81c.8-.78.8-2.07 0-2.86zM5.41 20L4 18.59l7.72-7.72 1.47 1.35L5.41 20z\"/>\n",
              "  </svg>\n",
              "      </button>\n",
              "      \n",
              "  <style>\n",
              "    .colab-df-container {\n",
              "      display:flex;\n",
              "      flex-wrap:wrap;\n",
              "      gap: 12px;\n",
              "    }\n",
              "\n",
              "    .colab-df-convert {\n",
              "      background-color: #E8F0FE;\n",
              "      border: none;\n",
              "      border-radius: 50%;\n",
              "      cursor: pointer;\n",
              "      display: none;\n",
              "      fill: #1967D2;\n",
              "      height: 32px;\n",
              "      padding: 0 0 0 0;\n",
              "      width: 32px;\n",
              "    }\n",
              "\n",
              "    .colab-df-convert:hover {\n",
              "      background-color: #E2EBFA;\n",
              "      box-shadow: 0px 1px 2px rgba(60, 64, 67, 0.3), 0px 1px 3px 1px rgba(60, 64, 67, 0.15);\n",
              "      fill: #174EA6;\n",
              "    }\n",
              "\n",
              "    [theme=dark] .colab-df-convert {\n",
              "      background-color: #3B4455;\n",
              "      fill: #D2E3FC;\n",
              "    }\n",
              "\n",
              "    [theme=dark] .colab-df-convert:hover {\n",
              "      background-color: #434B5C;\n",
              "      box-shadow: 0px 1px 3px 1px rgba(0, 0, 0, 0.15);\n",
              "      filter: drop-shadow(0px 1px 2px rgba(0, 0, 0, 0.3));\n",
              "      fill: #FFFFFF;\n",
              "    }\n",
              "  </style>\n",
              "\n",
              "      <script>\n",
              "        const buttonEl =\n",
              "          document.querySelector('#df-2dc29e3b-db97-44d9-b36b-9557b659aa0b button.colab-df-convert');\n",
              "        buttonEl.style.display =\n",
              "          google.colab.kernel.accessAllowed ? 'block' : 'none';\n",
              "\n",
              "        async function convertToInteractive(key) {\n",
              "          const element = document.querySelector('#df-2dc29e3b-db97-44d9-b36b-9557b659aa0b');\n",
              "          const dataTable =\n",
              "            await google.colab.kernel.invokeFunction('convertToInteractive',\n",
              "                                                     [key], {});\n",
              "          if (!dataTable) return;\n",
              "\n",
              "          const docLinkHtml = 'Like what you see? Visit the ' +\n",
              "            '<a target=\"_blank\" href=https://colab.research.google.com/notebooks/data_table.ipynb>data table notebook</a>'\n",
              "            + ' to learn more about interactive tables.';\n",
              "          element.innerHTML = '';\n",
              "          dataTable['output_type'] = 'display_data';\n",
              "          await google.colab.output.renderOutput(dataTable, element);\n",
              "          const docLink = document.createElement('div');\n",
              "          docLink.innerHTML = docLinkHtml;\n",
              "          element.appendChild(docLink);\n",
              "        }\n",
              "      </script>\n",
              "    </div>\n",
              "  </div>\n",
              "  "
            ]
          },
          "metadata": {},
          "execution_count": 29
        }
      ]
    },
    {
      "cell_type": "code",
      "source": [
        "train_df3.info()"
      ],
      "metadata": {
        "colab": {
          "base_uri": "https://localhost:8080/"
        },
        "id": "RbY4d7NOJd2s",
        "outputId": "ed0fe0ec-d6de-4e00-9faa-eb2094281dd8"
      },
      "execution_count": null,
      "outputs": [
        {
          "output_type": "stream",
          "name": "stdout",
          "text": [
            "<class 'pandas.core.frame.DataFrame'>\n",
            "RangeIndex: 23524 entries, 0 to 23523\n",
            "Data columns (total 35 columns):\n",
            " #   Column                                           Non-Null Count  Dtype \n",
            "---  ------                                           --------------  ----- \n",
            " 0   uniqueid                                         23524 non-null  object\n",
            " 1   bank_account                                     23524 non-null  int64 \n",
            " 2   location_type                                    23524 non-null  int64 \n",
            " 3   cellphone_access                                 23524 non-null  int64 \n",
            " 4   household_size                                   23524 non-null  int64 \n",
            " 5   age_of_respondent                                23524 non-null  int64 \n",
            " 6   gender_of_respondent                             23524 non-null  int64 \n",
            " 7   country_Rwanda                                   23524 non-null  uint8 \n",
            " 8   country_Tanzania                                 23524 non-null  uint8 \n",
            " 9   country_Uganda                                   23524 non-null  uint8 \n",
            " 10  year_2017                                        23524 non-null  uint8 \n",
            " 11  year_2018                                        23524 non-null  uint8 \n",
            " 12  relationship_with_head_Head of Household         23524 non-null  uint8 \n",
            " 13  relationship_with_head_Other non-relatives       23524 non-null  uint8 \n",
            " 14  relationship_with_head_Other relative            23524 non-null  uint8 \n",
            " 15  relationship_with_head_Parent                    23524 non-null  uint8 \n",
            " 16  relationship_with_head_Spouse                    23524 non-null  uint8 \n",
            " 17  marital_status_Dont know                         23524 non-null  uint8 \n",
            " 18  marital_status_Married/Living together           23524 non-null  uint8 \n",
            " 19  marital_status_Single/Never Married              23524 non-null  uint8 \n",
            " 20  marital_status_Widowed                           23524 non-null  uint8 \n",
            " 21  education_level_Other/Dont know/RTA              23524 non-null  uint8 \n",
            " 22  education_level_Primary education                23524 non-null  uint8 \n",
            " 23  education_level_Secondary education              23524 non-null  uint8 \n",
            " 24  education_level_Tertiary education               23524 non-null  uint8 \n",
            " 25  education_level_Vocational/Specialised training  23524 non-null  uint8 \n",
            " 26  job_type_Farming and Fishing                     23524 non-null  uint8 \n",
            " 27  job_type_Formally employed Government            23524 non-null  uint8 \n",
            " 28  job_type_Formally employed Private               23524 non-null  uint8 \n",
            " 29  job_type_Government Dependent                    23524 non-null  uint8 \n",
            " 30  job_type_Informally employed                     23524 non-null  uint8 \n",
            " 31  job_type_No Income                               23524 non-null  uint8 \n",
            " 32  job_type_Other Income                            23524 non-null  uint8 \n",
            " 33  job_type_Remittance Dependent                    23524 non-null  uint8 \n",
            " 34  job_type_Self employed                           23524 non-null  uint8 \n",
            "dtypes: int64(6), object(1), uint8(28)\n",
            "memory usage: 1.9+ MB\n"
          ]
        }
      ]
    },
    {
      "cell_type": "code",
      "source": [],
      "metadata": {
        "id": "ds0FHSTk2FSY"
      },
      "execution_count": null,
      "outputs": []
    },
    {
      "cell_type": "code",
      "source": [
        "# Seperating the target(dependent variable) from the independent variable\n",
        "\n",
        "# remember to drop uniqueid\n",
        "X = train_df3.drop(columns='bank_account', axis=1)\n",
        "\n",
        "\n",
        "y = train_df3['bank_account']"
      ],
      "metadata": {
        "id": "pScP6-oZJqeO"
      },
      "execution_count": null,
      "outputs": []
    },
    {
      "cell_type": "code",
      "source": [
        "\n",
        "X2 = X.drop(columns='uniqueid', axis=1)"
      ],
      "metadata": {
        "id": "I3Nb3sskLVlr"
      },
      "execution_count": null,
      "outputs": []
    },
    {
      "cell_type": "code",
      "source": [],
      "metadata": {
        "id": "tFH4WiN5LVhg"
      },
      "execution_count": null,
      "outputs": []
    },
    {
      "cell_type": "code",
      "source": [],
      "metadata": {
        "id": "ZuDKbVKkLVfA"
      },
      "execution_count": null,
      "outputs": []
    },
    {
      "cell_type": "markdown",
      "source": [],
      "metadata": {
        "id": "wT0mEWWqKQMX"
      }
    },
    {
      "cell_type": "markdown",
      "source": [],
      "metadata": {
        "id": "oySwPlh5KQvA"
      }
    },
    {
      "cell_type": "markdown",
      "source": [],
      "metadata": {
        "id": "gPb4AOeMKQI5"
      }
    },
    {
      "cell_type": "code",
      "source": [
        "# import PCA Visualizer \n",
        "\n",
        "from yellowbrick.features import PCA\n",
        "\n",
        "visualizer = PCA(scale=True, projection=3, classes= ['yes', 'no'])\n",
        "\n",
        "visualizer.fit_transform(X2,y)"
      ],
      "metadata": {
        "colab": {
          "base_uri": "https://localhost:8080/",
          "height": 452
        },
        "id": "qasEvzbRJ-rp",
        "outputId": "e67f2674-233d-449a-b9c4-b87ab620fbd1"
      },
      "execution_count": null,
      "outputs": [
        {
          "output_type": "execute_result",
          "data": {
            "text/plain": [
              "array([[-1.07598909,  2.47150504,  0.56673569],\n",
              "       [-0.60486265, -3.03474837,  2.27977788],\n",
              "       [ 1.08663391,  2.42027653,  2.4974833 ],\n",
              "       ...,\n",
              "       [-0.93506039,  1.94005831,  2.1888621 ],\n",
              "       [-0.01173232,  3.49744592,  2.38176157],\n",
              "       [-0.8380486 ,  3.78804288,  2.26250725]])"
            ]
          },
          "metadata": {},
          "execution_count": 33
        },
        {
          "output_type": "display_data",
          "data": {
            "text/plain": [
              "<Figure size 576x396 with 1 Axes>"
            ],
            "image/png": "[encoded data removed]"
          },
          "metadata": {}
        }
      ]
    },
    {
      "cell_type": "code",
      "source": [
        "simple = ['location_type', 'cellphone_access', 'household_size' , 'age_of_respondent', 'gender_of_respondent']\n",
        "\n",
        "simple_X = X2[simple]"
      ],
      "metadata": {
        "id": "avFhhyp7L4wk"
      },
      "execution_count": null,
      "outputs": []
    },
    {
      "cell_type": "code",
      "source": [
        "\n",
        "\n",
        "visualizer2 = PCA(scale=False, projection=3, classes= ['yes', 'no'])\n",
        "\n",
        "visualizer2.fit_transform(simple_X,y)"
      ],
      "metadata": {
        "colab": {
          "base_uri": "https://localhost:8080/",
          "height": 452
        },
        "id": "62aVgP2eMy6t",
        "outputId": "b9958bdb-e213-4c76-a393-d715f0ac604c"
      },
      "execution_count": null,
      "outputs": [
        {
          "output_type": "execute_result",
          "data": {
            "text/plain": [
              "array([[-14.78892649,  -1.03163896,   0.28094655],\n",
              "       [ 31.17069476,   1.76324046,   0.63012424],\n",
              "       [-12.82587018,   0.94190112,  -0.60598364],\n",
              "       ...,\n",
              "       [-11.82503092,   1.01717966,   0.302119  ],\n",
              "       [ -8.86251629,   3.00459474,   0.35362157],\n",
              "       [-18.91254482,   5.88599925,  -0.57867631]])"
            ]
          },
          "metadata": {},
          "execution_count": 35
        },
        {
          "output_type": "display_data",
          "data": {
            "text/plain": [
              "<Figure size 576x396 with 1 Axes>"
            ],
            "image/png": "[encoded data removed]"
          },
          "metadata": {}
        }
      ]
    },
    {
      "cell_type": "code",
      "source": [
        "from yellowbrick.model_selection import FeatureImportances\n",
        "from sklearn.ensemble import RandomForestClassifier\n",
        "\n",
        "\n",
        "visualizer3 = FeatureImportances(RandomForestClassifier(max_depth=3), relative=True)\n",
        "visualizer3.fit(X2, y)"
      ],
      "metadata": {
        "colab": {
          "base_uri": "https://localhost:8080/",
          "height": 382
        },
        "id": "YgKDtb2DOcNs",
        "outputId": "f7481e22-5e47-4bab-e153-88ad50596379"
      },
      "execution_count": null,
      "outputs": [
        {
          "output_type": "execute_result",
          "data": {
            "text/plain": [
              "FeatureImportances(ax=<matplotlib.axes._subplots.AxesSubplot object at 0x7f308bf5f5b0>,\n",
              "                   estimator=RandomForestClassifier(max_depth=3))"
            ]
          },
          "metadata": {},
          "execution_count": 36
        },
        {
          "output_type": "display_data",
          "data": {
            "text/plain": [
              "<Figure size 576x396 with 1 Axes>"
            ],
            "image/png": "[encoded data removed]"
          },
          "metadata": {}
        }
      ]
    },
    {
      "cell_type": "markdown",
      "source": [],
      "metadata": {
        "id": "Hf96ibQlfkEk"
      }
    },
    {
      "cell_type": "code",
      "source": [
        "## Scale columns\n",
        "\n",
        "scaler = MinMaxScaler()\n",
        "\n",
        "X2['household_size'] = scaler.fit_transform(X2[['household_size']]) \t\n",
        "X2['age_of_respondent'] = scaler.fit_transform(X2[['age_of_respondent']])"
      ],
      "metadata": {
        "id": "6CWztSqMOSWV"
      },
      "execution_count": null,
      "outputs": []
    },
    {
      "cell_type": "code",
      "source": [
        "X2.head()"
      ],
      "metadata": {
        "colab": {
          "base_uri": "https://localhost:8080/",
          "height": 334
        },
        "id": "NeHPjqWP6g6U",
        "outputId": "ef462a7c-fcfa-4671-d2e8-0591109b504c"
      },
      "execution_count": null,
      "outputs": [
        {
          "output_type": "execute_result",
          "data": {
            "text/plain": [
              "   location_type  cellphone_access  household_size  age_of_respondent  \\\n",
              "0              0                 1            0.10           0.095238   \n",
              "1              0                 0            0.20           0.642857   \n",
              "2              1                 1            0.20           0.119048   \n",
              "3              0                 1            0.20           0.214286   \n",
              "4              1                 0            0.35           0.119048   \n",
              "\n",
              "   gender_of_respondent  country_Rwanda  country_Tanzania  country_Uganda  \\\n",
              "0                     0               0                 0               0   \n",
              "1                     0               0                 0               0   \n",
              "2                     1               0                 0               0   \n",
              "3                     0               0                 0               0   \n",
              "4                     1               0                 0               0   \n",
              "\n",
              "   year_2017  year_2018  ...  education_level_Vocational/Specialised training  \\\n",
              "0          0          1  ...                                                0   \n",
              "1          0          1  ...                                                0   \n",
              "2          0          1  ...                                                1   \n",
              "3          0          1  ...                                                0   \n",
              "4          0          1  ...                                                0   \n",
              "\n",
              "   job_type_Farming and Fishing  job_type_Formally employed Government  \\\n",
              "0                             0                                      0   \n",
              "1                             0                                      0   \n",
              "2                             0                                      0   \n",
              "3                             0                                      0   \n",
              "4                             0                                      0   \n",
              "\n",
              "   job_type_Formally employed Private  job_type_Government Dependent  \\\n",
              "0                                   0                              0   \n",
              "1                                   0                              1   \n",
              "2                                   0                              0   \n",
              "3                                   1                              0   \n",
              "4                                   0                              0   \n",
              "\n",
              "   job_type_Informally employed  job_type_No Income  job_type_Other Income  \\\n",
              "0                             0                   0                      0   \n",
              "1                             0                   0                      0   \n",
              "2                             0                   0                      0   \n",
              "3                             0                   0                      0   \n",
              "4                             1                   0                      0   \n",
              "\n",
              "   job_type_Remittance Dependent  job_type_Self employed  \n",
              "0                              0                       1  \n",
              "1                              0                       0  \n",
              "2                              0                       1  \n",
              "3                              0                       0  \n",
              "4                              0                       0  \n",
              "\n",
              "[5 rows x 33 columns]"
            ],
            "text/html": [
              "\n",
              "  <div id=\"df-e50a6649-e6aa-4c49-b50b-933e192603e5\">\n",
              "    <div class=\"colab-df-container\">\n",
              "      <div>\n",
              "<style scoped>\n",
              "    .dataframe tbody tr th:only-of-type {\n",
              "        vertical-align: middle;\n",
              "    }\n",
              "\n",
              "    .dataframe tbody tr th {\n",
              "        vertical-align: top;\n",
              "    }\n",
              "\n",
              "    .dataframe thead th {\n",
              "        text-align: right;\n",
              "    }\n",
              "</style>\n",
              "<table border=\"1\" class=\"dataframe\">\n",
              "  <thead>\n",
              "    <tr style=\"text-align: right;\">\n",
              "      <th></th>\n",
              "      <th>location_type</th>\n",
              "      <th>cellphone_access</th>\n",
              "      <th>household_size</th>\n",
              "      <th>age_of_respondent</th>\n",
              "      <th>gender_of_respondent</th>\n",
              "      <th>country_Rwanda</th>\n",
              "      <th>country_Tanzania</th>\n",
              "      <th>country_Uganda</th>\n",
              "      <th>year_2017</th>\n",
              "      <th>year_2018</th>\n",
              "      <th>...</th>\n",
              "      <th>education_level_Vocational/Specialised training</th>\n",
              "      <th>job_type_Farming and Fishing</th>\n",
              "      <th>job_type_Formally employed Government</th>\n",
              "      <th>job_type_Formally employed Private</th>\n",
              "      <th>job_type_Government Dependent</th>\n",
              "      <th>job_type_Informally employed</th>\n",
              "      <th>job_type_No Income</th>\n",
              "      <th>job_type_Other Income</th>\n",
              "      <th>job_type_Remittance Dependent</th>\n",
              "      <th>job_type_Self employed</th>\n",
              "    </tr>\n",
              "  </thead>\n",
              "  <tbody>\n",
              "    <tr>\n",
              "      <th>0</th>\n",
              "      <td>0</td>\n",
              "      <td>1</td>\n",
              "      <td>0.10</td>\n",
              "      <td>0.095238</td>\n",
              "      <td>0</td>\n",
              "      <td>0</td>\n",
              "      <td>0</td>\n",
              "      <td>0</td>\n",
              "      <td>0</td>\n",
              "      <td>1</td>\n",
              "      <td>...</td>\n",
              "      <td>0</td>\n",
              "      <td>0</td>\n",
              "      <td>0</td>\n",
              "      <td>0</td>\n",
              "      <td>0</td>\n",
              "      <td>0</td>\n",
              "      <td>0</td>\n",
              "      <td>0</td>\n",
              "      <td>0</td>\n",
              "      <td>1</td>\n",
              "    </tr>\n",
              "    <tr>\n",
              "      <th>1</th>\n",
              "      <td>0</td>\n",
              "      <td>0</td>\n",
              "      <td>0.20</td>\n",
              "      <td>0.642857</td>\n",
              "      <td>0</td>\n",
              "      <td>0</td>\n",
              "      <td>0</td>\n",
              "      <td>0</td>\n",
              "      <td>0</td>\n",
              "      <td>1</td>\n",
              "      <td>...</td>\n",
              "      <td>0</td>\n",
              "      <td>0</td>\n",
              "      <td>0</td>\n",
              "      <td>0</td>\n",
              "      <td>1</td>\n",
              "      <td>0</td>\n",
              "      <td>0</td>\n",
              "      <td>0</td>\n",
              "      <td>0</td>\n",
              "      <td>0</td>\n",
              "    </tr>\n",
              "    <tr>\n",
              "      <th>2</th>\n",
              "      <td>1</td>\n",
              "      <td>1</td>\n",
              "      <td>0.20</td>\n",
              "      <td>0.119048</td>\n",
              "      <td>1</td>\n",
              "      <td>0</td>\n",
              "      <td>0</td>\n",
              "      <td>0</td>\n",
              "      <td>0</td>\n",
              "      <td>1</td>\n",
              "      <td>...</td>\n",
              "      <td>1</td>\n",
              "      <td>0</td>\n",
              "      <td>0</td>\n",
              "      <td>0</td>\n",
              "      <td>0</td>\n",
              "      <td>0</td>\n",
              "      <td>0</td>\n",
              "      <td>0</td>\n",
              "      <td>0</td>\n",
              "      <td>1</td>\n",
              "    </tr>\n",
              "    <tr>\n",
              "      <th>3</th>\n",
              "      <td>0</td>\n",
              "      <td>1</td>\n",
              "      <td>0.20</td>\n",
              "      <td>0.214286</td>\n",
              "      <td>0</td>\n",
              "      <td>0</td>\n",
              "      <td>0</td>\n",
              "      <td>0</td>\n",
              "      <td>0</td>\n",
              "      <td>1</td>\n",
              "      <td>...</td>\n",
              "      <td>0</td>\n",
              "      <td>0</td>\n",
              "      <td>0</td>\n",
              "      <td>1</td>\n",
              "      <td>0</td>\n",
              "      <td>0</td>\n",
              "      <td>0</td>\n",
              "      <td>0</td>\n",
              "      <td>0</td>\n",
              "      <td>0</td>\n",
              "    </tr>\n",
              "    <tr>\n",
              "      <th>4</th>\n",
              "      <td>1</td>\n",
              "      <td>0</td>\n",
              "      <td>0.35</td>\n",
              "      <td>0.119048</td>\n",
              "      <td>1</td>\n",
              "      <td>0</td>\n",
              "      <td>0</td>\n",
              "      <td>0</td>\n",
              "      <td>0</td>\n",
              "      <td>1</td>\n",
              "      <td>...</td>\n",
              "      <td>0</td>\n",
              "      <td>0</td>\n",
              "      <td>0</td>\n",
              "      <td>0</td>\n",
              "      <td>0</td>\n",
              "      <td>1</td>\n",
              "      <td>0</td>\n",
              "      <td>0</td>\n",
              "      <td>0</td>\n",
              "      <td>0</td>\n",
              "    </tr>\n",
              "  </tbody>\n",
              "</table>\n",
              "<p>5 rows × 33 columns</p>\n",
              "</div>\n",
              "      <button class=\"colab-df-convert\" onclick=\"convertToInteractive('df-e50a6649-e6aa-4c49-b50b-933e192603e5')\"\n",
              "              title=\"Convert this dataframe to an interactive table.\"\n",
              "              style=\"display:none;\">\n",
              "        \n",
              "  <svg xmlns=\"http://www.w3.org/2000/svg\" height=\"24px\"viewBox=\"0 0 24 24\"\n",
              "       width=\"24px\">\n",
              "    <path d=\"M0 0h24v24H0V0z\" fill=\"none\"/>\n",
              "    <path d=\"M18.56 5.44l.94 2.06.94-2.06 2.06-.94-2.06-.94-.94-2.06-.94 2.06-2.06.94zm-11 1L8.5 8.5l.94-2.06 2.06-.94-2.06-.94L8.5 2.5l-.94 2.06-2.06.94zm10 10l.94 2.06.94-2.06 2.06-.94-2.06-.94-.94-2.06-.94 2.06-2.06.94z\"/><path d=\"M17.41 7.96l-1.37-1.37c-.4-.4-.92-.59-1.43-.59-.52 0-1.04.2-1.43.59L10.3 9.45l-7.72 7.72c-.78.78-.78 2.05 0 2.83L4 21.41c.39.39.9.59 1.41.59.51 0 1.02-.2 1.41-.59l7.78-7.78 2.81-2.81c.8-.78.8-2.07 0-2.86zM5.41 20L4 18.59l7.72-7.72 1.47 1.35L5.41 20z\"/>\n",
              "  </svg>\n",
              "      </button>\n",
              "      \n",
              "  <style>\n",
              "    .colab-df-container {\n",
              "      display:flex;\n",
              "      flex-wrap:wrap;\n",
              "      gap: 12px;\n",
              "    }\n",
              "\n",
              "    .colab-df-convert {\n",
              "      background-color: #E8F0FE;\n",
              "      border: none;\n",
              "      border-radius: 50%;\n",
              "      cursor: pointer;\n",
              "      display: none;\n",
              "      fill: #1967D2;\n",
              "      height: 32px;\n",
              "      padding: 0 0 0 0;\n",
              "      width: 32px;\n",
              "    }\n",
              "\n",
              "    .colab-df-convert:hover {\n",
              "      background-color: #E2EBFA;\n",
              "      box-shadow: 0px 1px 2px rgba(60, 64, 67, 0.3), 0px 1px 3px 1px rgba(60, 64, 67, 0.15);\n",
              "      fill: #174EA6;\n",
              "    }\n",
              "\n",
              "    [theme=dark] .colab-df-convert {\n",
              "      background-color: #3B4455;\n",
              "      fill: #D2E3FC;\n",
              "    }\n",
              "\n",
              "    [theme=dark] .colab-df-convert:hover {\n",
              "      background-color: #434B5C;\n",
              "      box-shadow: 0px 1px 3px 1px rgba(0, 0, 0, 0.15);\n",
              "      filter: drop-shadow(0px 1px 2px rgba(0, 0, 0, 0.3));\n",
              "      fill: #FFFFFF;\n",
              "    }\n",
              "  </style>\n",
              "\n",
              "      <script>\n",
              "        const buttonEl =\n",
              "          document.querySelector('#df-e50a6649-e6aa-4c49-b50b-933e192603e5 button.colab-df-convert');\n",
              "        buttonEl.style.display =\n",
              "          google.colab.kernel.accessAllowed ? 'block' : 'none';\n",
              "\n",
              "        async function convertToInteractive(key) {\n",
              "          const element = document.querySelector('#df-e50a6649-e6aa-4c49-b50b-933e192603e5');\n",
              "          const dataTable =\n",
              "            await google.colab.kernel.invokeFunction('convertToInteractive',\n",
              "                                                     [key], {});\n",
              "          if (!dataTable) return;\n",
              "\n",
              "          const docLinkHtml = 'Like what you see? Visit the ' +\n",
              "            '<a target=\"_blank\" href=https://colab.research.google.com/notebooks/data_table.ipynb>data table notebook</a>'\n",
              "            + ' to learn more about interactive tables.';\n",
              "          element.innerHTML = '';\n",
              "          dataTable['output_type'] = 'display_data';\n",
              "          await google.colab.output.renderOutput(dataTable, element);\n",
              "          const docLink = document.createElement('div');\n",
              "          docLink.innerHTML = docLinkHtml;\n",
              "          element.appendChild(docLink);\n",
              "        }\n",
              "      </script>\n",
              "    </div>\n",
              "  </div>\n",
              "  "
            ]
          },
          "metadata": {},
          "execution_count": 39
        }
      ]
    },
    {
      "cell_type": "markdown",
      "source": [
        "## Model Training"
      ],
      "metadata": {
        "id": "XXgeuQop6oUV"
      }
    },
    {
      "cell_type": "code",
      "source": [
        "## LGBM\n",
        "\n",
        "# model establishing\n",
        "lgbm_model = LGBMClassifier(random_state=42).fit(X2, y)\n",
        "\n",
        "# estimating the errors before hyperparameter optimization\n",
        "lgbm_cv_results = cross_validate(lgbm_model, X2, y, cv=10, scoring=['accuracy', 'f1', 'roc_auc'])\n",
        "print('Accuracy:', lgbm_cv_results['test_accuracy'].mean())\n",
        "print('F1 Score:', lgbm_cv_results['test_f1'].mean())\n",
        "print('Roc Auc Score:', lgbm_cv_results['test_roc_auc'].mean())"
      ],
      "metadata": {
        "colab": {
          "base_uri": "https://localhost:8080/"
        },
        "id": "WPh072CD6siw",
        "outputId": "6247d14d-32fa-445d-a626-b91c8a0fcb79"
      },
      "execution_count": null,
      "outputs": [
        {
          "output_type": "stream",
          "name": "stdout",
          "text": [
            "Accuracy: 0.8750656276110105\n",
            "F1 Score: 0.4467412780511724\n",
            "Roc Auc Score: 0.841338349995248\n"
          ]
        }
      ]
    },
    {
      "cell_type": "code",
      "source": [
        "# hypreparameter optimization\n",
        "print('--'*50)\n",
        "print(lgbm_model.get_params())\n",
        "print('--'*50)\n",
        "\n",
        "lgbm_params = {'learning_rate': [0.01, 0.05, 0.1],\n",
        "              'n_estimators': [100, 300, 500, 1000]}\n",
        "\n",
        "# Using GridSearchCv method\n",
        "lgbm_best_grid = GridSearchCV(lgbm_model, lgbm_params, cv=10, n_jobs=-1, verbose=True).fit(X2, y)"
      ],
      "metadata": {
        "colab": {
          "base_uri": "https://localhost:8080/"
        },
        "id": "BCQaq6168TN9",
        "outputId": "5c40b78d-5d26-4a37-ed28-1f3dbb09f65b"
      },
      "execution_count": null,
      "outputs": [
        {
          "output_type": "stream",
          "name": "stdout",
          "text": [
            "----------------------------------------------------------------------------------------------------\n",
            "{'boosting_type': 'gbdt', 'class_weight': None, 'colsample_bytree': 1.0, 'importance_type': 'split', 'learning_rate': 0.1, 'max_depth': -1, 'min_child_samples': 20, 'min_child_weight': 0.001, 'min_split_gain': 0.0, 'n_estimators': 100, 'n_jobs': -1, 'num_leaves': 31, 'objective': None, 'random_state': 42, 'reg_alpha': 0.0, 'reg_lambda': 0.0, 'silent': True, 'subsample': 1.0, 'subsample_for_bin': 200000, 'subsample_freq': 0}\n",
            "----------------------------------------------------------------------------------------------------\n",
            "Fitting 10 folds for each of 12 candidates, totalling 120 fits\n"
          ]
        }
      ]
    },
    {
      "cell_type": "code",
      "source": [
        "# final model\n",
        "lgbm_final = lgbm_model.set_params(**lgbm_best_grid.best_params_, random_state=1).fit(X2, y)\n",
        "\n",
        "# estimating the errors after hyperparameter optimization\n",
        "lgbm_cv_results = cross_validate(lgbm_final, X2, y, cv=10, scoring=['accuracy', 'f1', 'roc_auc'])\n",
        "print('Accuracy:', lgbm_cv_results['test_accuracy'].mean())\n",
        "print('F1 Score:', lgbm_cv_results['test_f1'].mean())\n",
        "print('Roc Auc Score:', lgbm_cv_results['test_roc_auc'].mean())\n"
      ],
      "metadata": {
        "colab": {
          "base_uri": "https://localhost:8080/"
        },
        "id": "pHijCxqH9knM",
        "outputId": "1ef7da55-f05e-4828-997c-96f73d3167d3"
      },
      "execution_count": null,
      "outputs": [
        {
          "output_type": "stream",
          "name": "stdout",
          "text": [
            "Accuracy: 0.8794433614924934\n",
            "F1 Score: 0.4308369086408311\n",
            "Roc Auc Score: 0.8412402168386739\n"
          ]
        }
      ]
    },
    {
      "cell_type": "markdown",
      "source": [],
      "metadata": {
        "id": "JC_R90yJ-Skp"
      }
    },
    {
      "cell_type": "markdown",
      "source": [
        "## Test Data"
      ],
      "metadata": {
        "id": "FrHWfMsG-SSR"
      }
    },
    {
      "cell_type": "code",
      "source": [
        "data_info(test_df)"
      ],
      "metadata": {
        "colab": {
          "base_uri": "https://localhost:8080/"
        },
        "id": "DifSQ8Jr-ToK",
        "outputId": "2491ecb5-0ea7-47ed-add1-d952da18a880"
      },
      "execution_count": null,
      "outputs": [
        {
          "output_type": "stream",
          "name": "stdout",
          "text": [
            "******************** HEAD ********************\n",
            "  country  year       uniqueid location_type cellphone_access  household_size  \\\n",
            "0   Kenya  2018  uniqueid_6056         Urban              Yes               3   \n",
            "1   Kenya  2018  uniqueid_6060         Urban              Yes               7   \n",
            "2   Kenya  2018  uniqueid_6065         Rural               No               3   \n",
            "3   Kenya  2018  uniqueid_6072         Rural               No               6   \n",
            "4   Kenya  2018  uniqueid_6073         Urban               No               3   \n",
            "\n",
            "   age_of_respondent gender_of_respondent relationship_with_head  \\\n",
            "0                 30                 Male      Head of Household   \n",
            "1                 51                 Male      Head of Household   \n",
            "2                 77               Female                 Parent   \n",
            "3                 39               Female      Head of Household   \n",
            "4                 16                 Male                  Child   \n",
            "\n",
            "            marital_status                  education_level  \\\n",
            "0  Married/Living together              Secondary education   \n",
            "1  Married/Living together  Vocational/Specialised training   \n",
            "2  Married/Living together              No formal education   \n",
            "3  Married/Living together                Primary education   \n",
            "4     Single/Never Married              Secondary education   \n",
            "\n",
            "                       job_type  \n",
            "0  Formally employed Government  \n",
            "1     Formally employed Private  \n",
            "2          Remittance Dependent  \n",
            "3          Remittance Dependent  \n",
            "4          Remittance Dependent  \n",
            "******************** COLUMNS ********************\n",
            "Index(['country', 'year', 'uniqueid', 'location_type', 'cellphone_access',\n",
            "       'household_size', 'age_of_respondent', 'gender_of_respondent',\n",
            "       'relationship_with_head', 'marital_status', 'education_level',\n",
            "       'job_type'],\n",
            "      dtype='object')\n",
            "******************** DATA TYPE ********************\n",
            "<class 'pandas.core.frame.DataFrame'>\n",
            "******************** SHAPE ********************\n",
            "(10086, 12)\n",
            "******************** INFO ********************\n",
            "<class 'pandas.core.frame.DataFrame'>\n",
            "RangeIndex: 10086 entries, 0 to 10085\n",
            "Data columns (total 12 columns):\n",
            " #   Column                  Non-Null Count  Dtype \n",
            "---  ------                  --------------  ----- \n",
            " 0   country                 10086 non-null  object\n",
            " 1   year                    10086 non-null  int64 \n",
            " 2   uniqueid                10086 non-null  object\n",
            " 3   location_type           10086 non-null  object\n",
            " 4   cellphone_access        10086 non-null  object\n",
            " 5   household_size          10086 non-null  int64 \n",
            " 6   age_of_respondent       10086 non-null  int64 \n",
            " 7   gender_of_respondent    10086 non-null  object\n",
            " 8   relationship_with_head  10086 non-null  object\n",
            " 9   marital_status          10086 non-null  object\n",
            " 10  education_level         10086 non-null  object\n",
            " 11  job_type                10086 non-null  object\n",
            "dtypes: int64(3), object(9)\n",
            "memory usage: 945.7+ KB\n",
            "None\n",
            "******************** ISNULL ********************\n",
            "country                   False\n",
            "year                      False\n",
            "uniqueid                  False\n",
            "location_type             False\n",
            "cellphone_access          False\n",
            "household_size            False\n",
            "age_of_respondent         False\n",
            "gender_of_respondent      False\n",
            "relationship_with_head    False\n",
            "marital_status            False\n",
            "education_level           False\n",
            "job_type                  False\n",
            "dtype: bool\n",
            "******************** ISNULL COUNT ********************\n",
            "False    12\n",
            "dtype: int64\n",
            "******************** DESCRIPTION ********************\n",
            "               year  household_size  age_of_respondent\n",
            "count  10086.000000    10086.000000       10086.000000\n",
            "mean    2016.975907        3.778802          38.308348\n",
            "std        0.847356        2.212721          16.270053\n",
            "min     2016.000000        1.000000          16.000000\n",
            "25%     2016.000000        2.000000          26.000000\n",
            "50%     2017.000000        3.000000          35.000000\n",
            "75%     2018.000000        5.000000          48.000000\n",
            "max     2018.000000       20.000000         100.000000\n"
          ]
        }
      ]
    },
    {
      "cell_type": "code",
      "source": [
        "cat_cols_test, num_col_test, cat_but_car_test = grab_cols(test_df)"
      ],
      "metadata": {
        "colab": {
          "base_uri": "https://localhost:8080/"
        },
        "id": "oGnVj5QD-7BL",
        "outputId": "a13dd941-4616-4ae6-94ea-4d82a5bf396a"
      },
      "execution_count": null,
      "outputs": [
        {
          "output_type": "stream",
          "name": "stdout",
          "text": [
            "Records: 10086\n",
            "variables: 12\n",
            "Categorical columns: 10\n",
            "Numerical columns: 2\n",
            "cat_but_car: 1\n",
            "num_but_cat: 1\n"
          ]
        }
      ]
    },
    {
      "cell_type": "code",
      "source": [
        "for col in cat_cols_test:\n",
        "  summary_cat(test_df, col, plot=True)"
      ],
      "metadata": {
        "colab": {
          "base_uri": "https://localhost:8080/",
          "height": 1000
        },
        "id": "llDDqRJF_79i",
        "outputId": "0a97edbf-a344-4bea-c243-148c90176285"
      },
      "execution_count": null,
      "outputs": [
        {
          "output_type": "stream",
          "name": "stdout",
          "text": [
            "******************** COUNTRY ********************\n",
            "          COUNTRY  Ratio %\n",
            "Rwanda       3745     37.0\n",
            "Tanzania     2839     28.0\n",
            "Kenya        2601     26.0\n",
            "Uganda        901      9.0\n"
          ]
        },
        {
          "output_type": "display_data",
          "data": {
            "text/plain": [
              "<Figure size 576x396 with 1 Axes>"
            ],
            "image/png": "[encoded data removed]"
          },
          "metadata": {}
        },
        {
          "output_type": "stream",
          "name": "stdout",
          "text": [
            "******************** UNIQUEID ********************\n",
            "                UNIQUEID  Ratio %\n",
            "uniqueid_8633          3      0.0\n",
            "uniqueid_8535          3      0.0\n",
            "uniqueid_8612          3      0.0\n",
            "uniqueid_8592          3      0.0\n",
            "uniqueid_8620          3      0.0\n",
            "...                  ...      ...\n",
            "uniqueid_10432         1      0.0\n",
            "uniqueid_10433         1      0.0\n",
            "uniqueid_10434         1      0.0\n",
            "uniqueid_10435         1      0.0\n",
            "uniqueid_3002          1      0.0\n",
            "\n",
            "[7313 rows x 2 columns]\n"
          ]
        },
        {
          "output_type": "display_data",
          "data": {
            "text/plain": [
              "<Figure size 576x396 with 1 Axes>"
            ],
            "image/png": "[encoded data removed]"
          },
          "metadata": {}
        },
        {
          "output_type": "stream",
          "name": "stdout",
          "text": [
            "******************** LOCATION_TYPE ********************\n",
            "       LOCATION_TYPE  Ratio %\n",
            "Rural           6189     61.0\n",
            "Urban           3897     39.0\n"
          ]
        },
        {
          "output_type": "display_data",
          "data": {
            "text/plain": [
              "<Figure size 576x396 with 1 Axes>"
            ],
            "image/png": "[encoded data removed]"
          },
          "metadata": {}
        },
        {
          "output_type": "stream",
          "name": "stdout",
          "text": [
            "******************** CELLPHONE_ACCESS ********************\n",
            "     CELLPHONE_ACCESS  Ratio %\n",
            "Yes              7559     75.0\n",
            "No               2527     25.0\n"
          ]
        },
        {
          "output_type": "display_data",
          "data": {
            "text/plain": [
              "<Figure size 576x396 with 1 Axes>"
            ],
            "image/png": "[encoded data removed]"
          },
          "metadata": {}
        },
        {
          "output_type": "stream",
          "name": "stdout",
          "text": [
            "******************** GENDER_OF_RESPONDENT ********************\n",
            "        GENDER_OF_RESPONDENT  Ratio %\n",
            "Female                  5847     58.0\n",
            "Male                    4239     42.0\n"
          ]
        },
        {
          "output_type": "display_data",
          "data": {
            "text/plain": [
              "<Figure size 576x396 with 1 Axes>"
            ],
            "image/png": "[encoded data removed]"
          },
          "metadata": {}
        },
        {
          "output_type": "stream",
          "name": "stdout",
          "text": [
            "******************** RELATIONSHIP_WITH_HEAD ********************\n",
            "                     RELATIONSHIP_WITH_HEAD  Ratio %\n",
            "Head of Household                      5487     54.0\n",
            "Spouse                                 2845     28.0\n",
            "Child                                   962     10.0\n",
            "Parent                                  465      5.0\n",
            "Other relative                          258      3.0\n",
            "Other non-relatives                      69      1.0\n"
          ]
        },
        {
          "output_type": "display_data",
          "data": {
            "text/plain": [
              "<Figure size 576x396 with 1 Axes>"
            ],
            "image/png": "[encoded data removed]"
          },
          "metadata": {}
        },
        {
          "output_type": "stream",
          "name": "stdout",
          "text": [
            "******************** MARITAL_STATUS ********************\n",
            "                         MARITAL_STATUS  Ratio %\n",
            "Married/Living together            4663     46.0\n",
            "Single/Never Married               3447     34.0\n",
            "Widowed                            1107     11.0\n",
            "Divorced/Seperated                  868      9.0\n",
            "Dont know                             1      0.0\n"
          ]
        },
        {
          "output_type": "display_data",
          "data": {
            "text/plain": [
              "<Figure size 576x396 with 1 Axes>"
            ],
            "image/png": "[encoded data removed]"
          },
          "metadata": {}
        },
        {
          "output_type": "stream",
          "name": "stdout",
          "text": [
            "******************** EDUCATION_LEVEL ********************\n",
            "                                 EDUCATION_LEVEL  Ratio %\n",
            "Primary education                           5479     54.0\n",
            "Secondary education                         1902     19.0\n",
            "No formal education                         1836     18.0\n",
            "Tertiary education                           492      5.0\n",
            "Vocational/Specialised training              359      4.0\n",
            "Other/Dont know/RTA                           18      0.0\n"
          ]
        },
        {
          "output_type": "display_data",
          "data": {
            "text/plain": [
              "<Figure size 576x396 with 1 Axes>"
            ],
            "image/png": "[encoded data removed]"
          },
          "metadata": {}
        },
        {
          "output_type": "stream",
          "name": "stdout",
          "text": [
            "******************** JOB_TYPE ********************\n",
            "                              JOB_TYPE  Ratio %\n",
            "Self employed                     2773     27.0\n",
            "Informally employed               2372     24.0\n",
            "Farming and Fishing               2370     23.0\n",
            "Remittance Dependent              1107     11.0\n",
            "Formally employed Private          444      4.0\n",
            "Other Income                       423      4.0\n",
            "No Income                          276      3.0\n",
            "Formally employed Government       166      2.0\n",
            "Government Dependent               100      1.0\n",
            "Dont Know/Refuse to answer          55      1.0\n"
          ]
        },
        {
          "output_type": "display_data",
          "data": {
            "text/plain": [
              "<Figure size 576x396 with 1 Axes>"
            ],
            "image/png": "[encoded data removed]"
          },
          "metadata": {}
        },
        {
          "output_type": "stream",
          "name": "stdout",
          "text": [
            "******************** YEAR ********************\n",
            "      YEAR  Ratio %\n",
            "2016  3745     37.0\n",
            "2018  3502     35.0\n",
            "2017  2839     28.0\n"
          ]
        },
        {
          "output_type": "display_data",
          "data": {
            "text/plain": [
              "<Figure size 576x396 with 1 Axes>"
            ],
            "image/png": "[encoded data removed]"
          },
          "metadata": {}
        }
      ]
    },
    {
      "cell_type": "code",
      "source": [
        "for col in num_col_test:\n",
        "  summary_num(test_df, col, plot=True)"
      ],
      "metadata": {
        "colab": {
          "base_uri": "https://localhost:8080/",
          "height": 888
        },
        "id": "mFWr5VqNBEu1",
        "outputId": "75a3a564-b895-434d-eb03-01fad099c523"
      },
      "execution_count": null,
      "outputs": [
        {
          "output_type": "stream",
          "name": "stdout",
          "text": [
            "******************** HOUSEHOLD_SIZE ********************\n",
            "       HOUSEHOLD_SIZE\n",
            "count        10086.00\n",
            "mean             3.78\n",
            "std              2.21\n",
            "min              1.00\n",
            "25%              2.00\n",
            "50%              3.00\n",
            "75%              5.00\n",
            "max             20.00\n"
          ]
        },
        {
          "output_type": "display_data",
          "data": {
            "text/plain": [
              "<Figure size 720x288 with 2 Axes>"
            ],
            "image/png": "[encoded data removed]"
          },
          "metadata": {}
        },
        {
          "output_type": "stream",
          "name": "stdout",
          "text": [
            "******************** AGE_OF_RESPONDENT ********************\n",
            "       AGE_OF_RESPONDENT\n",
            "count           10086.00\n",
            "mean               38.31\n",
            "std                16.27\n",
            "min                16.00\n",
            "25%                26.00\n",
            "50%                35.00\n",
            "75%                48.00\n",
            "max               100.00\n"
          ]
        },
        {
          "output_type": "display_data",
          "data": {
            "text/plain": [
              "<Figure size 720x288 with 2 Axes>"
            ],
            "image/png": "[encoded data removed]"
          },
          "metadata": {}
        }
      ]
    },
    {
      "cell_type": "code",
      "source": [
        "\n",
        "binary_cols_test = [col for col in test_df.columns if test_df[col].nunique() == 2 and test_df[col].dtypes not in ('int', 'float')]\n",
        "\n",
        "\n",
        "\n",
        "for col in binary_cols_test:\n",
        "    label_encoder(test_df, col)\n"
      ],
      "metadata": {
        "id": "ofY86BzQBghl"
      },
      "execution_count": null,
      "outputs": []
    },
    {
      "cell_type": "code",
      "source": [
        "test_df.head()"
      ],
      "metadata": {
        "colab": {
          "base_uri": "https://localhost:8080/",
          "height": 392
        },
        "id": "YxmREQcpC7Vp",
        "outputId": "963265f2-062d-4986-edf1-086eb12deae5"
      },
      "execution_count": null,
      "outputs": [
        {
          "output_type": "execute_result",
          "data": {
            "text/plain": [
              "  country  year       uniqueid  location_type  cellphone_access  \\\n",
              "0   Kenya  2018  uniqueid_6056              1                 1   \n",
              "1   Kenya  2018  uniqueid_6060              1                 1   \n",
              "2   Kenya  2018  uniqueid_6065              0                 0   \n",
              "3   Kenya  2018  uniqueid_6072              0                 0   \n",
              "4   Kenya  2018  uniqueid_6073              1                 0   \n",
              "\n",
              "   household_size  age_of_respondent  gender_of_respondent  \\\n",
              "0               3                 30                     1   \n",
              "1               7                 51                     1   \n",
              "2               3                 77                     0   \n",
              "3               6                 39                     0   \n",
              "4               3                 16                     1   \n",
              "\n",
              "  relationship_with_head           marital_status  \\\n",
              "0      Head of Household  Married/Living together   \n",
              "1      Head of Household  Married/Living together   \n",
              "2                 Parent  Married/Living together   \n",
              "3      Head of Household  Married/Living together   \n",
              "4                  Child     Single/Never Married   \n",
              "\n",
              "                   education_level                      job_type  \n",
              "0              Secondary education  Formally employed Government  \n",
              "1  Vocational/Specialised training     Formally employed Private  \n",
              "2              No formal education          Remittance Dependent  \n",
              "3                Primary education          Remittance Dependent  \n",
              "4              Secondary education          Remittance Dependent  "
            ],
            "text/html": [
              "\n",
              "  <div id=\"df-9eb09f5b-65ca-407c-95f8-9a09440c7cfa\">\n",
              "    <div class=\"colab-df-container\">\n",
              "      <div>\n",
              "<style scoped>\n",
              "    .dataframe tbody tr th:only-of-type {\n",
              "        vertical-align: middle;\n",
              "    }\n",
              "\n",
              "    .dataframe tbody tr th {\n",
              "        vertical-align: top;\n",
              "    }\n",
              "\n",
              "    .dataframe thead th {\n",
              "        text-align: right;\n",
              "    }\n",
              "</style>\n",
              "<table border=\"1\" class=\"dataframe\">\n",
              "  <thead>\n",
              "    <tr style=\"text-align: right;\">\n",
              "      <th></th>\n",
              "      <th>country</th>\n",
              "      <th>year</th>\n",
              "      <th>uniqueid</th>\n",
              "      <th>location_type</th>\n",
              "      <th>cellphone_access</th>\n",
              "      <th>household_size</th>\n",
              "      <th>age_of_respondent</th>\n",
              "      <th>gender_of_respondent</th>\n",
              "      <th>relationship_with_head</th>\n",
              "      <th>marital_status</th>\n",
              "      <th>education_level</th>\n",
              "      <th>job_type</th>\n",
              "    </tr>\n",
              "  </thead>\n",
              "  <tbody>\n",
              "    <tr>\n",
              "      <th>0</th>\n",
              "      <td>Kenya</td>\n",
              "      <td>2018</td>\n",
              "      <td>uniqueid_6056</td>\n",
              "      <td>1</td>\n",
              "      <td>1</td>\n",
              "      <td>3</td>\n",
              "      <td>30</td>\n",
              "      <td>1</td>\n",
              "      <td>Head of Household</td>\n",
              "      <td>Married/Living together</td>\n",
              "      <td>Secondary education</td>\n",
              "      <td>Formally employed Government</td>\n",
              "    </tr>\n",
              "    <tr>\n",
              "      <th>1</th>\n",
              "      <td>Kenya</td>\n",
              "      <td>2018</td>\n",
              "      <td>uniqueid_6060</td>\n",
              "      <td>1</td>\n",
              "      <td>1</td>\n",
              "      <td>7</td>\n",
              "      <td>51</td>\n",
              "      <td>1</td>\n",
              "      <td>Head of Household</td>\n",
              "      <td>Married/Living together</td>\n",
              "      <td>Vocational/Specialised training</td>\n",
              "      <td>Formally employed Private</td>\n",
              "    </tr>\n",
              "    <tr>\n",
              "      <th>2</th>\n",
              "      <td>Kenya</td>\n",
              "      <td>2018</td>\n",
              "      <td>uniqueid_6065</td>\n",
              "      <td>0</td>\n",
              "      <td>0</td>\n",
              "      <td>3</td>\n",
              "      <td>77</td>\n",
              "      <td>0</td>\n",
              "      <td>Parent</td>\n",
              "      <td>Married/Living together</td>\n",
              "      <td>No formal education</td>\n",
              "      <td>Remittance Dependent</td>\n",
              "    </tr>\n",
              "    <tr>\n",
              "      <th>3</th>\n",
              "      <td>Kenya</td>\n",
              "      <td>2018</td>\n",
              "      <td>uniqueid_6072</td>\n",
              "      <td>0</td>\n",
              "      <td>0</td>\n",
              "      <td>6</td>\n",
              "      <td>39</td>\n",
              "      <td>0</td>\n",
              "      <td>Head of Household</td>\n",
              "      <td>Married/Living together</td>\n",
              "      <td>Primary education</td>\n",
              "      <td>Remittance Dependent</td>\n",
              "    </tr>\n",
              "    <tr>\n",
              "      <th>4</th>\n",
              "      <td>Kenya</td>\n",
              "      <td>2018</td>\n",
              "      <td>uniqueid_6073</td>\n",
              "      <td>1</td>\n",
              "      <td>0</td>\n",
              "      <td>3</td>\n",
              "      <td>16</td>\n",
              "      <td>1</td>\n",
              "      <td>Child</td>\n",
              "      <td>Single/Never Married</td>\n",
              "      <td>Secondary education</td>\n",
              "      <td>Remittance Dependent</td>\n",
              "    </tr>\n",
              "  </tbody>\n",
              "</table>\n",
              "</div>\n",
              "      <button class=\"colab-df-convert\" onclick=\"convertToInteractive('df-9eb09f5b-65ca-407c-95f8-9a09440c7cfa')\"\n",
              "              title=\"Convert this dataframe to an interactive table.\"\n",
              "              style=\"display:none;\">\n",
              "        \n",
              "  <svg xmlns=\"http://www.w3.org/2000/svg\" height=\"24px\"viewBox=\"0 0 24 24\"\n",
              "       width=\"24px\">\n",
              "    <path d=\"M0 0h24v24H0V0z\" fill=\"none\"/>\n",
              "    <path d=\"M18.56 5.44l.94 2.06.94-2.06 2.06-.94-2.06-.94-.94-2.06-.94 2.06-2.06.94zm-11 1L8.5 8.5l.94-2.06 2.06-.94-2.06-.94L8.5 2.5l-.94 2.06-2.06.94zm10 10l.94 2.06.94-2.06 2.06-.94-2.06-.94-.94-2.06-.94 2.06-2.06.94z\"/><path d=\"M17.41 7.96l-1.37-1.37c-.4-.4-.92-.59-1.43-.59-.52 0-1.04.2-1.43.59L10.3 9.45l-7.72 7.72c-.78.78-.78 2.05 0 2.83L4 21.41c.39.39.9.59 1.41.59.51 0 1.02-.2 1.41-.59l7.78-7.78 2.81-2.81c.8-.78.8-2.07 0-2.86zM5.41 20L4 18.59l7.72-7.72 1.47 1.35L5.41 20z\"/>\n",
              "  </svg>\n",
              "      </button>\n",
              "      \n",
              "  <style>\n",
              "    .colab-df-container {\n",
              "      display:flex;\n",
              "      flex-wrap:wrap;\n",
              "      gap: 12px;\n",
              "    }\n",
              "\n",
              "    .colab-df-convert {\n",
              "      background-color: #E8F0FE;\n",
              "      border: none;\n",
              "      border-radius: 50%;\n",
              "      cursor: pointer;\n",
              "      display: none;\n",
              "      fill: #1967D2;\n",
              "      height: 32px;\n",
              "      padding: 0 0 0 0;\n",
              "      width: 32px;\n",
              "    }\n",
              "\n",
              "    .colab-df-convert:hover {\n",
              "      background-color: #E2EBFA;\n",
              "      box-shadow: 0px 1px 2px rgba(60, 64, 67, 0.3), 0px 1px 3px 1px rgba(60, 64, 67, 0.15);\n",
              "      fill: #174EA6;\n",
              "    }\n",
              "\n",
              "    [theme=dark] .colab-df-convert {\n",
              "      background-color: #3B4455;\n",
              "      fill: #D2E3FC;\n",
              "    }\n",
              "\n",
              "    [theme=dark] .colab-df-convert:hover {\n",
              "      background-color: #434B5C;\n",
              "      box-shadow: 0px 1px 3px 1px rgba(0, 0, 0, 0.15);\n",
              "      filter: drop-shadow(0px 1px 2px rgba(0, 0, 0, 0.3));\n",
              "      fill: #FFFFFF;\n",
              "    }\n",
              "  </style>\n",
              "\n",
              "      <script>\n",
              "        const buttonEl =\n",
              "          document.querySelector('#df-9eb09f5b-65ca-407c-95f8-9a09440c7cfa button.colab-df-convert');\n",
              "        buttonEl.style.display =\n",
              "          google.colab.kernel.accessAllowed ? 'block' : 'none';\n",
              "\n",
              "        async function convertToInteractive(key) {\n",
              "          const element = document.querySelector('#df-9eb09f5b-65ca-407c-95f8-9a09440c7cfa');\n",
              "          const dataTable =\n",
              "            await google.colab.kernel.invokeFunction('convertToInteractive',\n",
              "                                                     [key], {});\n",
              "          if (!dataTable) return;\n",
              "\n",
              "          const docLinkHtml = 'Like what you see? Visit the ' +\n",
              "            '<a target=\"_blank\" href=https://colab.research.google.com/notebooks/data_table.ipynb>data table notebook</a>'\n",
              "            + ' to learn more about interactive tables.';\n",
              "          element.innerHTML = '';\n",
              "          dataTable['output_type'] = 'display_data';\n",
              "          await google.colab.output.renderOutput(dataTable, element);\n",
              "          const docLink = document.createElement('div');\n",
              "          docLink.innerHTML = docLinkHtml;\n",
              "          element.appendChild(docLink);\n",
              "        }\n",
              "      </script>\n",
              "    </div>\n",
              "  </div>\n",
              "  "
            ]
          },
          "metadata": {},
          "execution_count": 58
        }
      ]
    },
    {
      "cell_type": "code",
      "source": [
        "ohe_cols_test = ['country', 'year', 'relationship_with_head', 'marital_status', 'education_level', 'job_type']"
      ],
      "metadata": {
        "id": "rYQsYnG9DvLy"
      },
      "execution_count": null,
      "outputs": []
    },
    {
      "cell_type": "code",
      "source": [
        "# OneHot Encoding\n",
        "\n",
        "test_df2 = one_hot_encoder(test_df, ohe_cols_test)\n"
      ],
      "metadata": {
        "id": "22ZUYy7SD75N"
      },
      "execution_count": null,
      "outputs": []
    },
    {
      "cell_type": "code",
      "source": [
        "test_df2.info()"
      ],
      "metadata": {
        "colab": {
          "base_uri": "https://localhost:8080/"
        },
        "id": "IkrPkgeWEdI7",
        "outputId": "eb5d7546-410e-450d-fe16-ca96efcee71d"
      },
      "execution_count": null,
      "outputs": [
        {
          "output_type": "stream",
          "name": "stdout",
          "text": [
            "<class 'pandas.core.frame.DataFrame'>\n",
            "RangeIndex: 10086 entries, 0 to 10085\n",
            "Data columns (total 34 columns):\n",
            " #   Column                                           Non-Null Count  Dtype \n",
            "---  ------                                           --------------  ----- \n",
            " 0   uniqueid                                         10086 non-null  object\n",
            " 1   location_type                                    10086 non-null  int64 \n",
            " 2   cellphone_access                                 10086 non-null  int64 \n",
            " 3   household_size                                   10086 non-null  int64 \n",
            " 4   age_of_respondent                                10086 non-null  int64 \n",
            " 5   gender_of_respondent                             10086 non-null  int64 \n",
            " 6   country_Rwanda                                   10086 non-null  uint8 \n",
            " 7   country_Tanzania                                 10086 non-null  uint8 \n",
            " 8   country_Uganda                                   10086 non-null  uint8 \n",
            " 9   year_2017                                        10086 non-null  uint8 \n",
            " 10  year_2018                                        10086 non-null  uint8 \n",
            " 11  relationship_with_head_Head of Household         10086 non-null  uint8 \n",
            " 12  relationship_with_head_Other non-relatives       10086 non-null  uint8 \n",
            " 13  relationship_with_head_Other relative            10086 non-null  uint8 \n",
            " 14  relationship_with_head_Parent                    10086 non-null  uint8 \n",
            " 15  relationship_with_head_Spouse                    10086 non-null  uint8 \n",
            " 16  marital_status_Dont know                         10086 non-null  uint8 \n",
            " 17  marital_status_Married/Living together           10086 non-null  uint8 \n",
            " 18  marital_status_Single/Never Married              10086 non-null  uint8 \n",
            " 19  marital_status_Widowed                           10086 non-null  uint8 \n",
            " 20  education_level_Other/Dont know/RTA              10086 non-null  uint8 \n",
            " 21  education_level_Primary education                10086 non-null  uint8 \n",
            " 22  education_level_Secondary education              10086 non-null  uint8 \n",
            " 23  education_level_Tertiary education               10086 non-null  uint8 \n",
            " 24  education_level_Vocational/Specialised training  10086 non-null  uint8 \n",
            " 25  job_type_Farming and Fishing                     10086 non-null  uint8 \n",
            " 26  job_type_Formally employed Government            10086 non-null  uint8 \n",
            " 27  job_type_Formally employed Private               10086 non-null  uint8 \n",
            " 28  job_type_Government Dependent                    10086 non-null  uint8 \n",
            " 29  job_type_Informally employed                     10086 non-null  uint8 \n",
            " 30  job_type_No Income                               10086 non-null  uint8 \n",
            " 31  job_type_Other Income                            10086 non-null  uint8 \n",
            " 32  job_type_Remittance Dependent                    10086 non-null  uint8 \n",
            " 33  job_type_Self employed                           10086 non-null  uint8 \n",
            "dtypes: int64(5), object(1), uint8(28)\n",
            "memory usage: 748.7+ KB\n"
          ]
        }
      ]
    },
    {
      "cell_type": "code",
      "source": [
        "X_test = test_df2.drop(columns='uniqueid',axis=1)\n",
        "\n"
      ],
      "metadata": {
        "id": "Kz30Sm5jEkcJ"
      },
      "execution_count": null,
      "outputs": []
    },
    {
      "cell_type": "code",
      "source": [
        "## Scale columns\n",
        "\n",
        "\n",
        "\n",
        "X_test['household_size'] = scaler.fit_transform(X_test[['household_size']]) \t\n",
        "X_test['age_of_respondent'] = scaler.fit_transform(X_test[['age_of_respondent']])"
      ],
      "metadata": {
        "id": "o7iiTLQIGtr8"
      },
      "execution_count": null,
      "outputs": []
    },
    {
      "cell_type": "markdown",
      "source": [
        "## Model Prediction "
      ],
      "metadata": {
        "id": "up5olgSrFVw3"
      }
    },
    {
      "cell_type": "code",
      "source": [
        "y_predict = lgbm_final.fit()"
      ],
      "metadata": {
        "id": "-SRozV92FPMV"
      },
      "execution_count": null,
      "outputs": []
    },
    {
      "cell_type": "code",
      "source": [
        "test_df2['bank_account'] = lgbm_final.predict(X_test) "
      ],
      "metadata": {
        "id": "VRBRmUJQGHdA"
      },
      "execution_count": null,
      "outputs": []
    },
    {
      "cell_type": "code",
      "source": [
        "test_df3 = test_df2.drop(columns='bank_account', axis=1)"
      ],
      "metadata": {
        "id": "1wSEHWuFGlSD"
      },
      "execution_count": null,
      "outputs": []
    },
    {
      "cell_type": "code",
      "source": [
        "test_df3['bank_account'] = lgbm_final.predict(X_test) "
      ],
      "metadata": {
        "id": "LLqrI2O9HYRP"
      },
      "execution_count": null,
      "outputs": []
    },
    {
      "cell_type": "code",
      "source": [
        "test_df3.head()"
      ],
      "metadata": {
        "colab": {
          "base_uri": "https://localhost:8080/",
          "height": 334
        },
        "id": "GekAJjJDHgOa",
        "outputId": "0ccae22b-a0c8-49b9-ae3a-4eedf56ec3ec"
      },
      "execution_count": null,
      "outputs": [
        {
          "output_type": "execute_result",
          "data": {
            "text/plain": [
              "        uniqueid  location_type  cellphone_access  household_size  \\\n",
              "0  uniqueid_6056              1                 1               3   \n",
              "1  uniqueid_6060              1                 1               7   \n",
              "2  uniqueid_6065              0                 0               3   \n",
              "3  uniqueid_6072              0                 0               6   \n",
              "4  uniqueid_6073              1                 0               3   \n",
              "\n",
              "   age_of_respondent  gender_of_respondent  country_Rwanda  country_Tanzania  \\\n",
              "0                 30                     1               0                 0   \n",
              "1                 51                     1               0                 0   \n",
              "2                 77                     0               0                 0   \n",
              "3                 39                     0               0                 0   \n",
              "4                 16                     1               0                 0   \n",
              "\n",
              "   country_Uganda  year_2017  ...  job_type_Farming and Fishing  \\\n",
              "0               0          0  ...                             0   \n",
              "1               0          0  ...                             0   \n",
              "2               0          0  ...                             0   \n",
              "3               0          0  ...                             0   \n",
              "4               0          0  ...                             0   \n",
              "\n",
              "   job_type_Formally employed Government  job_type_Formally employed Private  \\\n",
              "0                                      1                                   0   \n",
              "1                                      0                                   1   \n",
              "2                                      0                                   0   \n",
              "3                                      0                                   0   \n",
              "4                                      0                                   0   \n",
              "\n",
              "   job_type_Government Dependent  job_type_Informally employed  \\\n",
              "0                              0                             0   \n",
              "1                              0                             0   \n",
              "2                              0                             0   \n",
              "3                              0                             0   \n",
              "4                              0                             0   \n",
              "\n",
              "   job_type_No Income  job_type_Other Income  job_type_Remittance Dependent  \\\n",
              "0                   0                      0                              0   \n",
              "1                   0                      0                              0   \n",
              "2                   0                      0                              1   \n",
              "3                   0                      0                              1   \n",
              "4                   0                      0                              1   \n",
              "\n",
              "   job_type_Self employed  bank_account  \n",
              "0                       0             1  \n",
              "1                       0             1  \n",
              "2                       0             0  \n",
              "3                       0             0  \n",
              "4                       0             0  \n",
              "\n",
              "[5 rows x 35 columns]"
            ],
            "text/html": [
              "\n",
              "  <div id=\"df-b40a91ac-b12f-4ddc-99ec-5e13b3b24d77\">\n",
              "    <div class=\"colab-df-container\">\n",
              "      <div>\n",
              "<style scoped>\n",
              "    .dataframe tbody tr th:only-of-type {\n",
              "        vertical-align: middle;\n",
              "    }\n",
              "\n",
              "    .dataframe tbody tr th {\n",
              "        vertical-align: top;\n",
              "    }\n",
              "\n",
              "    .dataframe thead th {\n",
              "        text-align: right;\n",
              "    }\n",
              "</style>\n",
              "<table border=\"1\" class=\"dataframe\">\n",
              "  <thead>\n",
              "    <tr style=\"text-align: right;\">\n",
              "      <th></th>\n",
              "      <th>uniqueid</th>\n",
              "      <th>location_type</th>\n",
              "      <th>cellphone_access</th>\n",
              "      <th>household_size</th>\n",
              "      <th>age_of_respondent</th>\n",
              "      <th>gender_of_respondent</th>\n",
              "      <th>country_Rwanda</th>\n",
              "      <th>country_Tanzania</th>\n",
              "      <th>country_Uganda</th>\n",
              "      <th>year_2017</th>\n",
              "      <th>...</th>\n",
              "      <th>job_type_Farming and Fishing</th>\n",
              "      <th>job_type_Formally employed Government</th>\n",
              "      <th>job_type_Formally employed Private</th>\n",
              "      <th>job_type_Government Dependent</th>\n",
              "      <th>job_type_Informally employed</th>\n",
              "      <th>job_type_No Income</th>\n",
              "      <th>job_type_Other Income</th>\n",
              "      <th>job_type_Remittance Dependent</th>\n",
              "      <th>job_type_Self employed</th>\n",
              "      <th>bank_account</th>\n",
              "    </tr>\n",
              "  </thead>\n",
              "  <tbody>\n",
              "    <tr>\n",
              "      <th>0</th>\n",
              "      <td>uniqueid_6056</td>\n",
              "      <td>1</td>\n",
              "      <td>1</td>\n",
              "      <td>3</td>\n",
              "      <td>30</td>\n",
              "      <td>1</td>\n",
              "      <td>0</td>\n",
              "      <td>0</td>\n",
              "      <td>0</td>\n",
              "      <td>0</td>\n",
              "      <td>...</td>\n",
              "      <td>0</td>\n",
              "      <td>1</td>\n",
              "      <td>0</td>\n",
              "      <td>0</td>\n",
              "      <td>0</td>\n",
              "      <td>0</td>\n",
              "      <td>0</td>\n",
              "      <td>0</td>\n",
              "      <td>0</td>\n",
              "      <td>1</td>\n",
              "    </tr>\n",
              "    <tr>\n",
              "      <th>1</th>\n",
              "      <td>uniqueid_6060</td>\n",
              "      <td>1</td>\n",
              "      <td>1</td>\n",
              "      <td>7</td>\n",
              "      <td>51</td>\n",
              "      <td>1</td>\n",
              "      <td>0</td>\n",
              "      <td>0</td>\n",
              "      <td>0</td>\n",
              "      <td>0</td>\n",
              "      <td>...</td>\n",
              "      <td>0</td>\n",
              "      <td>0</td>\n",
              "      <td>1</td>\n",
              "      <td>0</td>\n",
              "      <td>0</td>\n",
              "      <td>0</td>\n",
              "      <td>0</td>\n",
              "      <td>0</td>\n",
              "      <td>0</td>\n",
              "      <td>1</td>\n",
              "    </tr>\n",
              "    <tr>\n",
              "      <th>2</th>\n",
              "      <td>uniqueid_6065</td>\n",
              "      <td>0</td>\n",
              "      <td>0</td>\n",
              "      <td>3</td>\n",
              "      <td>77</td>\n",
              "      <td>0</td>\n",
              "      <td>0</td>\n",
              "      <td>0</td>\n",
              "      <td>0</td>\n",
              "      <td>0</td>\n",
              "      <td>...</td>\n",
              "      <td>0</td>\n",
              "      <td>0</td>\n",
              "      <td>0</td>\n",
              "      <td>0</td>\n",
              "      <td>0</td>\n",
              "      <td>0</td>\n",
              "      <td>0</td>\n",
              "      <td>1</td>\n",
              "      <td>0</td>\n",
              "      <td>0</td>\n",
              "    </tr>\n",
              "    <tr>\n",
              "      <th>3</th>\n",
              "      <td>uniqueid_6072</td>\n",
              "      <td>0</td>\n",
              "      <td>0</td>\n",
              "      <td>6</td>\n",
              "      <td>39</td>\n",
              "      <td>0</td>\n",
              "      <td>0</td>\n",
              "      <td>0</td>\n",
              "      <td>0</td>\n",
              "      <td>0</td>\n",
              "      <td>...</td>\n",
              "      <td>0</td>\n",
              "      <td>0</td>\n",
              "      <td>0</td>\n",
              "      <td>0</td>\n",
              "      <td>0</td>\n",
              "      <td>0</td>\n",
              "      <td>0</td>\n",
              "      <td>1</td>\n",
              "      <td>0</td>\n",
              "      <td>0</td>\n",
              "    </tr>\n",
              "    <tr>\n",
              "      <th>4</th>\n",
              "      <td>uniqueid_6073</td>\n",
              "      <td>1</td>\n",
              "      <td>0</td>\n",
              "      <td>3</td>\n",
              "      <td>16</td>\n",
              "      <td>1</td>\n",
              "      <td>0</td>\n",
              "      <td>0</td>\n",
              "      <td>0</td>\n",
              "      <td>0</td>\n",
              "      <td>...</td>\n",
              "      <td>0</td>\n",
              "      <td>0</td>\n",
              "      <td>0</td>\n",
              "      <td>0</td>\n",
              "      <td>0</td>\n",
              "      <td>0</td>\n",
              "      <td>0</td>\n",
              "      <td>1</td>\n",
              "      <td>0</td>\n",
              "      <td>0</td>\n",
              "    </tr>\n",
              "  </tbody>\n",
              "</table>\n",
              "<p>5 rows × 35 columns</p>\n",
              "</div>\n",
              "      <button class=\"colab-df-convert\" onclick=\"convertToInteractive('df-b40a91ac-b12f-4ddc-99ec-5e13b3b24d77')\"\n",
              "              title=\"Convert this dataframe to an interactive table.\"\n",
              "              style=\"display:none;\">\n",
              "        \n",
              "  <svg xmlns=\"http://www.w3.org/2000/svg\" height=\"24px\"viewBox=\"0 0 24 24\"\n",
              "       width=\"24px\">\n",
              "    <path d=\"M0 0h24v24H0V0z\" fill=\"none\"/>\n",
              "    <path d=\"M18.56 5.44l.94 2.06.94-2.06 2.06-.94-2.06-.94-.94-2.06-.94 2.06-2.06.94zm-11 1L8.5 8.5l.94-2.06 2.06-.94-2.06-.94L8.5 2.5l-.94 2.06-2.06.94zm10 10l.94 2.06.94-2.06 2.06-.94-2.06-.94-.94-2.06-.94 2.06-2.06.94z\"/><path d=\"M17.41 7.96l-1.37-1.37c-.4-.4-.92-.59-1.43-.59-.52 0-1.04.2-1.43.59L10.3 9.45l-7.72 7.72c-.78.78-.78 2.05 0 2.83L4 21.41c.39.39.9.59 1.41.59.51 0 1.02-.2 1.41-.59l7.78-7.78 2.81-2.81c.8-.78.8-2.07 0-2.86zM5.41 20L4 18.59l7.72-7.72 1.47 1.35L5.41 20z\"/>\n",
              "  </svg>\n",
              "      </button>\n",
              "      \n",
              "  <style>\n",
              "    .colab-df-container {\n",
              "      display:flex;\n",
              "      flex-wrap:wrap;\n",
              "      gap: 12px;\n",
              "    }\n",
              "\n",
              "    .colab-df-convert {\n",
              "      background-color: #E8F0FE;\n",
              "      border: none;\n",
              "      border-radius: 50%;\n",
              "      cursor: pointer;\n",
              "      display: none;\n",
              "      fill: #1967D2;\n",
              "      height: 32px;\n",
              "      padding: 0 0 0 0;\n",
              "      width: 32px;\n",
              "    }\n",
              "\n",
              "    .colab-df-convert:hover {\n",
              "      background-color: #E2EBFA;\n",
              "      box-shadow: 0px 1px 2px rgba(60, 64, 67, 0.3), 0px 1px 3px 1px rgba(60, 64, 67, 0.15);\n",
              "      fill: #174EA6;\n",
              "    }\n",
              "\n",
              "    [theme=dark] .colab-df-convert {\n",
              "      background-color: #3B4455;\n",
              "      fill: #D2E3FC;\n",
              "    }\n",
              "\n",
              "    [theme=dark] .colab-df-convert:hover {\n",
              "      background-color: #434B5C;\n",
              "      box-shadow: 0px 1px 3px 1px rgba(0, 0, 0, 0.15);\n",
              "      filter: drop-shadow(0px 1px 2px rgba(0, 0, 0, 0.3));\n",
              "      fill: #FFFFFF;\n",
              "    }\n",
              "  </style>\n",
              "\n",
              "      <script>\n",
              "        const buttonEl =\n",
              "          document.querySelector('#df-b40a91ac-b12f-4ddc-99ec-5e13b3b24d77 button.colab-df-convert');\n",
              "        buttonEl.style.display =\n",
              "          google.colab.kernel.accessAllowed ? 'block' : 'none';\n",
              "\n",
              "        async function convertToInteractive(key) {\n",
              "          const element = document.querySelector('#df-b40a91ac-b12f-4ddc-99ec-5e13b3b24d77');\n",
              "          const dataTable =\n",
              "            await google.colab.kernel.invokeFunction('convertToInteractive',\n",
              "                                                     [key], {});\n",
              "          if (!dataTable) return;\n",
              "\n",
              "          const docLinkHtml = 'Like what you see? Visit the ' +\n",
              "            '<a target=\"_blank\" href=https://colab.research.google.com/notebooks/data_table.ipynb>data table notebook</a>'\n",
              "            + ' to learn more about interactive tables.';\n",
              "          element.innerHTML = '';\n",
              "          dataTable['output_type'] = 'display_data';\n",
              "          await google.colab.output.renderOutput(dataTable, element);\n",
              "          const docLink = document.createElement('div');\n",
              "          docLink.innerHTML = docLinkHtml;\n",
              "          element.appendChild(docLink);\n",
              "        }\n",
              "      </script>\n",
              "    </div>\n",
              "  </div>\n",
              "  "
            ]
          },
          "metadata": {},
          "execution_count": 68
        }
      ]
    },
    {
      "cell_type": "code",
      "source": [],
      "metadata": {
        "id": "Nhtia295KIvK"
      },
      "execution_count": null,
      "outputs": []
    },
    {
      "cell_type": "code",
      "source": [],
      "metadata": {
        "id": "SQmKL2Z6LKgn"
      },
      "execution_count": null,
      "outputs": []
    },
    {
      "cell_type": "code",
      "source": [
        "sub_path = r'SampleSubmission.csv'\n",
        "\n",
        "sam_submission_df = pd.DataFrame(pd.read_csv(sub_path))\n",
        "\n",
        "sam_submission_df.head(2)"
      ],
      "metadata": {
        "colab": {
          "base_uri": "https://localhost:8080/",
          "height": 112
        },
        "id": "G0eY_gYdH8vR",
        "outputId": "f9be0f77-26cb-4311-c458-38ddb7307b82"
      },
      "execution_count": null,
      "outputs": [
        {
          "output_type": "execute_result",
          "data": {
            "text/plain": [
              "            unique_id  bank_account\n",
              "0  uniqueid_1 x Kenya             0\n",
              "1  uniqueid_2 x Kenya             0"
            ],
            "text/html": [
              "\n",
              "  <div id=\"df-08c565a1-6bb5-4708-b970-f9cb68ae6169\">\n",
              "    <div class=\"colab-df-container\">\n",
              "      <div>\n",
              "<style scoped>\n",
              "    .dataframe tbody tr th:only-of-type {\n",
              "        vertical-align: middle;\n",
              "    }\n",
              "\n",
              "    .dataframe tbody tr th {\n",
              "        vertical-align: top;\n",
              "    }\n",
              "\n",
              "    .dataframe thead th {\n",
              "        text-align: right;\n",
              "    }\n",
              "</style>\n",
              "<table border=\"1\" class=\"dataframe\">\n",
              "  <thead>\n",
              "    <tr style=\"text-align: right;\">\n",
              "      <th></th>\n",
              "      <th>unique_id</th>\n",
              "      <th>bank_account</th>\n",
              "    </tr>\n",
              "  </thead>\n",
              "  <tbody>\n",
              "    <tr>\n",
              "      <th>0</th>\n",
              "      <td>uniqueid_1 x Kenya</td>\n",
              "      <td>0</td>\n",
              "    </tr>\n",
              "    <tr>\n",
              "      <th>1</th>\n",
              "      <td>uniqueid_2 x Kenya</td>\n",
              "      <td>0</td>\n",
              "    </tr>\n",
              "  </tbody>\n",
              "</table>\n",
              "</div>\n",
              "      <button class=\"colab-df-convert\" onclick=\"convertToInteractive('df-08c565a1-6bb5-4708-b970-f9cb68ae6169')\"\n",
              "              title=\"Convert this dataframe to an interactive table.\"\n",
              "              style=\"display:none;\">\n",
              "        \n",
              "  <svg xmlns=\"http://www.w3.org/2000/svg\" height=\"24px\"viewBox=\"0 0 24 24\"\n",
              "       width=\"24px\">\n",
              "    <path d=\"M0 0h24v24H0V0z\" fill=\"none\"/>\n",
              "    <path d=\"M18.56 5.44l.94 2.06.94-2.06 2.06-.94-2.06-.94-.94-2.06-.94 2.06-2.06.94zm-11 1L8.5 8.5l.94-2.06 2.06-.94-2.06-.94L8.5 2.5l-.94 2.06-2.06.94zm10 10l.94 2.06.94-2.06 2.06-.94-2.06-.94-.94-2.06-.94 2.06-2.06.94z\"/><path d=\"M17.41 7.96l-1.37-1.37c-.4-.4-.92-.59-1.43-.59-.52 0-1.04.2-1.43.59L10.3 9.45l-7.72 7.72c-.78.78-.78 2.05 0 2.83L4 21.41c.39.39.9.59 1.41.59.51 0 1.02-.2 1.41-.59l7.78-7.78 2.81-2.81c.8-.78.8-2.07 0-2.86zM5.41 20L4 18.59l7.72-7.72 1.47 1.35L5.41 20z\"/>\n",
              "  </svg>\n",
              "      </button>\n",
              "      \n",
              "  <style>\n",
              "    .colab-df-container {\n",
              "      display:flex;\n",
              "      flex-wrap:wrap;\n",
              "      gap: 12px;\n",
              "    }\n",
              "\n",
              "    .colab-df-convert {\n",
              "      background-color: #E8F0FE;\n",
              "      border: none;\n",
              "      border-radius: 50%;\n",
              "      cursor: pointer;\n",
              "      display: none;\n",
              "      fill: #1967D2;\n",
              "      height: 32px;\n",
              "      padding: 0 0 0 0;\n",
              "      width: 32px;\n",
              "    }\n",
              "\n",
              "    .colab-df-convert:hover {\n",
              "      background-color: #E2EBFA;\n",
              "      box-shadow: 0px 1px 2px rgba(60, 64, 67, 0.3), 0px 1px 3px 1px rgba(60, 64, 67, 0.15);\n",
              "      fill: #174EA6;\n",
              "    }\n",
              "\n",
              "    [theme=dark] .colab-df-convert {\n",
              "      background-color: #3B4455;\n",
              "      fill: #D2E3FC;\n",
              "    }\n",
              "\n",
              "    [theme=dark] .colab-df-convert:hover {\n",
              "      background-color: #434B5C;\n",
              "      box-shadow: 0px 1px 3px 1px rgba(0, 0, 0, 0.15);\n",
              "      filter: drop-shadow(0px 1px 2px rgba(0, 0, 0, 0.3));\n",
              "      fill: #FFFFFF;\n",
              "    }\n",
              "  </style>\n",
              "\n",
              "      <script>\n",
              "        const buttonEl =\n",
              "          document.querySelector('#df-08c565a1-6bb5-4708-b970-f9cb68ae6169 button.colab-df-convert');\n",
              "        buttonEl.style.display =\n",
              "          google.colab.kernel.accessAllowed ? 'block' : 'none';\n",
              "\n",
              "        async function convertToInteractive(key) {\n",
              "          const element = document.querySelector('#df-08c565a1-6bb5-4708-b970-f9cb68ae6169');\n",
              "          const dataTable =\n",
              "            await google.colab.kernel.invokeFunction('convertToInteractive',\n",
              "                                                     [key], {});\n",
              "          if (!dataTable) return;\n",
              "\n",
              "          const docLinkHtml = 'Like what you see? Visit the ' +\n",
              "            '<a target=\"_blank\" href=https://colab.research.google.com/notebooks/data_table.ipynb>data table notebook</a>'\n",
              "            + ' to learn more about interactive tables.';\n",
              "          element.innerHTML = '';\n",
              "          dataTable['output_type'] = 'display_data';\n",
              "          await google.colab.output.renderOutput(dataTable, element);\n",
              "          const docLink = document.createElement('div');\n",
              "          docLink.innerHTML = docLinkHtml;\n",
              "          element.appendChild(docLink);\n",
              "        }\n",
              "      </script>\n",
              "    </div>\n",
              "  </div>\n",
              "  "
            ]
          },
          "metadata": {},
          "execution_count": 70
        }
      ]
    },
    {
      "cell_type": "code",
      "source": [],
      "metadata": {
        "colab": {
          "base_uri": "https://localhost:8080/",
          "height": 206
        },
        "id": "IYFAhgrlHnOF",
        "outputId": "41a846f5-2618-4db1-cd48-f7738aa5726c"
      },
      "execution_count": null,
      "outputs": [
        {
          "output_type": "execute_result",
          "data": {
            "text/plain": [
              "        uniqueid  bank_account\n",
              "0  uniqueid_6056             1\n",
              "1  uniqueid_6060             1\n",
              "2  uniqueid_6065             0\n",
              "3  uniqueid_6072             0\n",
              "4  uniqueid_6073             0"
            ],
            "text/html": [
              "\n",
              "  <div id=\"df-4bf956dc-2d30-4931-b4ef-647d180776e9\">\n",
              "    <div class=\"colab-df-container\">\n",
              "      <div>\n",
              "<style scoped>\n",
              "    .dataframe tbody tr th:only-of-type {\n",
              "        vertical-align: middle;\n",
              "    }\n",
              "\n",
              "    .dataframe tbody tr th {\n",
              "        vertical-align: top;\n",
              "    }\n",
              "\n",
              "    .dataframe thead th {\n",
              "        text-align: right;\n",
              "    }\n",
              "</style>\n",
              "<table border=\"1\" class=\"dataframe\">\n",
              "  <thead>\n",
              "    <tr style=\"text-align: right;\">\n",
              "      <th></th>\n",
              "      <th>uniqueid</th>\n",
              "      <th>bank_account</th>\n",
              "    </tr>\n",
              "  </thead>\n",
              "  <tbody>\n",
              "    <tr>\n",
              "      <th>0</th>\n",
              "      <td>uniqueid_6056</td>\n",
              "      <td>1</td>\n",
              "    </tr>\n",
              "    <tr>\n",
              "      <th>1</th>\n",
              "      <td>uniqueid_6060</td>\n",
              "      <td>1</td>\n",
              "    </tr>\n",
              "    <tr>\n",
              "      <th>2</th>\n",
              "      <td>uniqueid_6065</td>\n",
              "      <td>0</td>\n",
              "    </tr>\n",
              "    <tr>\n",
              "      <th>3</th>\n",
              "      <td>uniqueid_6072</td>\n",
              "      <td>0</td>\n",
              "    </tr>\n",
              "    <tr>\n",
              "      <th>4</th>\n",
              "      <td>uniqueid_6073</td>\n",
              "      <td>0</td>\n",
              "    </tr>\n",
              "  </tbody>\n",
              "</table>\n",
              "</div>\n",
              "      <button class=\"colab-df-convert\" onclick=\"convertToInteractive('df-4bf956dc-2d30-4931-b4ef-647d180776e9')\"\n",
              "              title=\"Convert this dataframe to an interactive table.\"\n",
              "              style=\"display:none;\">\n",
              "        \n",
              "  <svg xmlns=\"http://www.w3.org/2000/svg\" height=\"24px\"viewBox=\"0 0 24 24\"\n",
              "       width=\"24px\">\n",
              "    <path d=\"M0 0h24v24H0V0z\" fill=\"none\"/>\n",
              "    <path d=\"M18.56 5.44l.94 2.06.94-2.06 2.06-.94-2.06-.94-.94-2.06-.94 2.06-2.06.94zm-11 1L8.5 8.5l.94-2.06 2.06-.94-2.06-.94L8.5 2.5l-.94 2.06-2.06.94zm10 10l.94 2.06.94-2.06 2.06-.94-2.06-.94-.94-2.06-.94 2.06-2.06.94z\"/><path d=\"M17.41 7.96l-1.37-1.37c-.4-.4-.92-.59-1.43-.59-.52 0-1.04.2-1.43.59L10.3 9.45l-7.72 7.72c-.78.78-.78 2.05 0 2.83L4 21.41c.39.39.9.59 1.41.59.51 0 1.02-.2 1.41-.59l7.78-7.78 2.81-2.81c.8-.78.8-2.07 0-2.86zM5.41 20L4 18.59l7.72-7.72 1.47 1.35L5.41 20z\"/>\n",
              "  </svg>\n",
              "      </button>\n",
              "      \n",
              "  <style>\n",
              "    .colab-df-container {\n",
              "      display:flex;\n",
              "      flex-wrap:wrap;\n",
              "      gap: 12px;\n",
              "    }\n",
              "\n",
              "    .colab-df-convert {\n",
              "      background-color: #E8F0FE;\n",
              "      border: none;\n",
              "      border-radius: 50%;\n",
              "      cursor: pointer;\n",
              "      display: none;\n",
              "      fill: #1967D2;\n",
              "      height: 32px;\n",
              "      padding: 0 0 0 0;\n",
              "      width: 32px;\n",
              "    }\n",
              "\n",
              "    .colab-df-convert:hover {\n",
              "      background-color: #E2EBFA;\n",
              "      box-shadow: 0px 1px 2px rgba(60, 64, 67, 0.3), 0px 1px 3px 1px rgba(60, 64, 67, 0.15);\n",
              "      fill: #174EA6;\n",
              "    }\n",
              "\n",
              "    [theme=dark] .colab-df-convert {\n",
              "      background-color: #3B4455;\n",
              "      fill: #D2E3FC;\n",
              "    }\n",
              "\n",
              "    [theme=dark] .colab-df-convert:hover {\n",
              "      background-color: #434B5C;\n",
              "      box-shadow: 0px 1px 3px 1px rgba(0, 0, 0, 0.15);\n",
              "      filter: drop-shadow(0px 1px 2px rgba(0, 0, 0, 0.3));\n",
              "      fill: #FFFFFF;\n",
              "    }\n",
              "  </style>\n",
              "\n",
              "      <script>\n",
              "        const buttonEl =\n",
              "          document.querySelector('#df-4bf956dc-2d30-4931-b4ef-647d180776e9 button.colab-df-convert');\n",
              "        buttonEl.style.display =\n",
              "          google.colab.kernel.accessAllowed ? 'block' : 'none';\n",
              "\n",
              "        async function convertToInteractive(key) {\n",
              "          const element = document.querySelector('#df-4bf956dc-2d30-4931-b4ef-647d180776e9');\n",
              "          const dataTable =\n",
              "            await google.colab.kernel.invokeFunction('convertToInteractive',\n",
              "                                                     [key], {});\n",
              "          if (!dataTable) return;\n",
              "\n",
              "          const docLinkHtml = 'Like what you see? Visit the ' +\n",
              "            '<a target=\"_blank\" href=https://colab.research.google.com/notebooks/data_table.ipynb>data table notebook</a>'\n",
              "            + ' to learn more about interactive tables.';\n",
              "          element.innerHTML = '';\n",
              "          dataTable['output_type'] = 'display_data';\n",
              "          await google.colab.output.renderOutput(dataTable, element);\n",
              "          const docLink = document.createElement('div');\n",
              "          docLink.innerHTML = docLinkHtml;\n",
              "          element.appendChild(docLink);\n",
              "        }\n",
              "      </script>\n",
              "    </div>\n",
              "  </div>\n",
              "  "
            ]
          },
          "metadata": {},
          "execution_count": 71
        }
      ]
    },
    {
      "cell_type": "code",
      "source": [],
      "metadata": {
        "id": "s66p0vS-I5FX"
      },
      "execution_count": null,
      "outputs": []
    },
    {
      "cell_type": "code",
      "source": [
        "test_df4= test_df3.copy(deep=True)\n",
        "\n",
        "test_df4['uniqueid'] = test_df['uniqueid'] + ' x ' + \ttest_df['country']   \n",
        "test_df4.head()"
      ],
      "metadata": {
        "colab": {
          "base_uri": "https://localhost:8080/",
          "height": 421
        },
        "id": "u9anp7l6L1w7",
        "outputId": "0494aa7e-aebb-4b7f-e7b3-9472c4707c22"
      },
      "execution_count": null,
      "outputs": [
        {
          "output_type": "execute_result",
          "data": {
            "text/plain": [
              "                uniqueid  location_type  cellphone_access  household_size  \\\n",
              "0  uniqueid_6056 x Kenya              1                 1               3   \n",
              "1  uniqueid_6060 x Kenya              1                 1               7   \n",
              "2  uniqueid_6065 x Kenya              0                 0               3   \n",
              "3  uniqueid_6072 x Kenya              0                 0               6   \n",
              "4  uniqueid_6073 x Kenya              1                 0               3   \n",
              "\n",
              "   age_of_respondent  gender_of_respondent  country_Rwanda  country_Tanzania  \\\n",
              "0                 30                     1               0                 0   \n",
              "1                 51                     1               0                 0   \n",
              "2                 77                     0               0                 0   \n",
              "3                 39                     0               0                 0   \n",
              "4                 16                     1               0                 0   \n",
              "\n",
              "   country_Uganda  year_2017  ...  job_type_Farming and Fishing  \\\n",
              "0               0          0  ...                             0   \n",
              "1               0          0  ...                             0   \n",
              "2               0          0  ...                             0   \n",
              "3               0          0  ...                             0   \n",
              "4               0          0  ...                             0   \n",
              "\n",
              "   job_type_Formally employed Government  job_type_Formally employed Private  \\\n",
              "0                                      1                                   0   \n",
              "1                                      0                                   1   \n",
              "2                                      0                                   0   \n",
              "3                                      0                                   0   \n",
              "4                                      0                                   0   \n",
              "\n",
              "   job_type_Government Dependent  job_type_Informally employed  \\\n",
              "0                              0                             0   \n",
              "1                              0                             0   \n",
              "2                              0                             0   \n",
              "3                              0                             0   \n",
              "4                              0                             0   \n",
              "\n",
              "   job_type_No Income  job_type_Other Income  job_type_Remittance Dependent  \\\n",
              "0                   0                      0                              0   \n",
              "1                   0                      0                              0   \n",
              "2                   0                      0                              1   \n",
              "3                   0                      0                              1   \n",
              "4                   0                      0                              1   \n",
              "\n",
              "   job_type_Self employed  bank_account  \n",
              "0                       0             1  \n",
              "1                       0             1  \n",
              "2                       0             0  \n",
              "3                       0             0  \n",
              "4                       0             0  \n",
              "\n",
              "[5 rows x 35 columns]"
            ],
            "text/html": [
              "\n",
              "  <div id=\"df-fdc57aac-50d8-4fa4-873d-5d8dfd4dc219\">\n",
              "    <div class=\"colab-df-container\">\n",
              "      <div>\n",
              "<style scoped>\n",
              "    .dataframe tbody tr th:only-of-type {\n",
              "        vertical-align: middle;\n",
              "    }\n",
              "\n",
              "    .dataframe tbody tr th {\n",
              "        vertical-align: top;\n",
              "    }\n",
              "\n",
              "    .dataframe thead th {\n",
              "        text-align: right;\n",
              "    }\n",
              "</style>\n",
              "<table border=\"1\" class=\"dataframe\">\n",
              "  <thead>\n",
              "    <tr style=\"text-align: right;\">\n",
              "      <th></th>\n",
              "      <th>uniqueid</th>\n",
              "      <th>location_type</th>\n",
              "      <th>cellphone_access</th>\n",
              "      <th>household_size</th>\n",
              "      <th>age_of_respondent</th>\n",
              "      <th>gender_of_respondent</th>\n",
              "      <th>country_Rwanda</th>\n",
              "      <th>country_Tanzania</th>\n",
              "      <th>country_Uganda</th>\n",
              "      <th>year_2017</th>\n",
              "      <th>...</th>\n",
              "      <th>job_type_Farming and Fishing</th>\n",
              "      <th>job_type_Formally employed Government</th>\n",
              "      <th>job_type_Formally employed Private</th>\n",
              "      <th>job_type_Government Dependent</th>\n",
              "      <th>job_type_Informally employed</th>\n",
              "      <th>job_type_No Income</th>\n",
              "      <th>job_type_Other Income</th>\n",
              "      <th>job_type_Remittance Dependent</th>\n",
              "      <th>job_type_Self employed</th>\n",
              "      <th>bank_account</th>\n",
              "    </tr>\n",
              "  </thead>\n",
              "  <tbody>\n",
              "    <tr>\n",
              "      <th>0</th>\n",
              "      <td>uniqueid_6056 x Kenya</td>\n",
              "      <td>1</td>\n",
              "      <td>1</td>\n",
              "      <td>3</td>\n",
              "      <td>30</td>\n",
              "      <td>1</td>\n",
              "      <td>0</td>\n",
              "      <td>0</td>\n",
              "      <td>0</td>\n",
              "      <td>0</td>\n",
              "      <td>...</td>\n",
              "      <td>0</td>\n",
              "      <td>1</td>\n",
              "      <td>0</td>\n",
              "      <td>0</td>\n",
              "      <td>0</td>\n",
              "      <td>0</td>\n",
              "      <td>0</td>\n",
              "      <td>0</td>\n",
              "      <td>0</td>\n",
              "      <td>1</td>\n",
              "    </tr>\n",
              "    <tr>\n",
              "      <th>1</th>\n",
              "      <td>uniqueid_6060 x Kenya</td>\n",
              "      <td>1</td>\n",
              "      <td>1</td>\n",
              "      <td>7</td>\n",
              "      <td>51</td>\n",
              "      <td>1</td>\n",
              "      <td>0</td>\n",
              "      <td>0</td>\n",
              "      <td>0</td>\n",
              "      <td>0</td>\n",
              "      <td>...</td>\n",
              "      <td>0</td>\n",
              "      <td>0</td>\n",
              "      <td>1</td>\n",
              "      <td>0</td>\n",
              "      <td>0</td>\n",
              "      <td>0</td>\n",
              "      <td>0</td>\n",
              "      <td>0</td>\n",
              "      <td>0</td>\n",
              "      <td>1</td>\n",
              "    </tr>\n",
              "    <tr>\n",
              "      <th>2</th>\n",
              "      <td>uniqueid_6065 x Kenya</td>\n",
              "      <td>0</td>\n",
              "      <td>0</td>\n",
              "      <td>3</td>\n",
              "      <td>77</td>\n",
              "      <td>0</td>\n",
              "      <td>0</td>\n",
              "      <td>0</td>\n",
              "      <td>0</td>\n",
              "      <td>0</td>\n",
              "      <td>...</td>\n",
              "      <td>0</td>\n",
              "      <td>0</td>\n",
              "      <td>0</td>\n",
              "      <td>0</td>\n",
              "      <td>0</td>\n",
              "      <td>0</td>\n",
              "      <td>0</td>\n",
              "      <td>1</td>\n",
              "      <td>0</td>\n",
              "      <td>0</td>\n",
              "    </tr>\n",
              "    <tr>\n",
              "      <th>3</th>\n",
              "      <td>uniqueid_6072 x Kenya</td>\n",
              "      <td>0</td>\n",
              "      <td>0</td>\n",
              "      <td>6</td>\n",
              "      <td>39</td>\n",
              "      <td>0</td>\n",
              "      <td>0</td>\n",
              "      <td>0</td>\n",
              "      <td>0</td>\n",
              "      <td>0</td>\n",
              "      <td>...</td>\n",
              "      <td>0</td>\n",
              "      <td>0</td>\n",
              "      <td>0</td>\n",
              "      <td>0</td>\n",
              "      <td>0</td>\n",
              "      <td>0</td>\n",
              "      <td>0</td>\n",
              "      <td>1</td>\n",
              "      <td>0</td>\n",
              "      <td>0</td>\n",
              "    </tr>\n",
              "    <tr>\n",
              "      <th>4</th>\n",
              "      <td>uniqueid_6073 x Kenya</td>\n",
              "      <td>1</td>\n",
              "      <td>0</td>\n",
              "      <td>3</td>\n",
              "      <td>16</td>\n",
              "      <td>1</td>\n",
              "      <td>0</td>\n",
              "      <td>0</td>\n",
              "      <td>0</td>\n",
              "      <td>0</td>\n",
              "      <td>...</td>\n",
              "      <td>0</td>\n",
              "      <td>0</td>\n",
              "      <td>0</td>\n",
              "      <td>0</td>\n",
              "      <td>0</td>\n",
              "      <td>0</td>\n",
              "      <td>0</td>\n",
              "      <td>1</td>\n",
              "      <td>0</td>\n",
              "      <td>0</td>\n",
              "    </tr>\n",
              "  </tbody>\n",
              "</table>\n",
              "<p>5 rows × 35 columns</p>\n",
              "</div>\n",
              "      <button class=\"colab-df-convert\" onclick=\"convertToInteractive('df-fdc57aac-50d8-4fa4-873d-5d8dfd4dc219')\"\n",
              "              title=\"Convert this dataframe to an interactive table.\"\n",
              "              style=\"display:none;\">\n",
              "        \n",
              "  <svg xmlns=\"http://www.w3.org/2000/svg\" height=\"24px\"viewBox=\"0 0 24 24\"\n",
              "       width=\"24px\">\n",
              "    <path d=\"M0 0h24v24H0V0z\" fill=\"none\"/>\n",
              "    <path d=\"M18.56 5.44l.94 2.06.94-2.06 2.06-.94-2.06-.94-.94-2.06-.94 2.06-2.06.94zm-11 1L8.5 8.5l.94-2.06 2.06-.94-2.06-.94L8.5 2.5l-.94 2.06-2.06.94zm10 10l.94 2.06.94-2.06 2.06-.94-2.06-.94-.94-2.06-.94 2.06-2.06.94z\"/><path d=\"M17.41 7.96l-1.37-1.37c-.4-.4-.92-.59-1.43-.59-.52 0-1.04.2-1.43.59L10.3 9.45l-7.72 7.72c-.78.78-.78 2.05 0 2.83L4 21.41c.39.39.9.59 1.41.59.51 0 1.02-.2 1.41-.59l7.78-7.78 2.81-2.81c.8-.78.8-2.07 0-2.86zM5.41 20L4 18.59l7.72-7.72 1.47 1.35L5.41 20z\"/>\n",
              "  </svg>\n",
              "      </button>\n",
              "      \n",
              "  <style>\n",
              "    .colab-df-container {\n",
              "      display:flex;\n",
              "      flex-wrap:wrap;\n",
              "      gap: 12px;\n",
              "    }\n",
              "\n",
              "    .colab-df-convert {\n",
              "      background-color: #E8F0FE;\n",
              "      border: none;\n",
              "      border-radius: 50%;\n",
              "      cursor: pointer;\n",
              "      display: none;\n",
              "      fill: #1967D2;\n",
              "      height: 32px;\n",
              "      padding: 0 0 0 0;\n",
              "      width: 32px;\n",
              "    }\n",
              "\n",
              "    .colab-df-convert:hover {\n",
              "      background-color: #E2EBFA;\n",
              "      box-shadow: 0px 1px 2px rgba(60, 64, 67, 0.3), 0px 1px 3px 1px rgba(60, 64, 67, 0.15);\n",
              "      fill: #174EA6;\n",
              "    }\n",
              "\n",
              "    [theme=dark] .colab-df-convert {\n",
              "      background-color: #3B4455;\n",
              "      fill: #D2E3FC;\n",
              "    }\n",
              "\n",
              "    [theme=dark] .colab-df-convert:hover {\n",
              "      background-color: #434B5C;\n",
              "      box-shadow: 0px 1px 3px 1px rgba(0, 0, 0, 0.15);\n",
              "      filter: drop-shadow(0px 1px 2px rgba(0, 0, 0, 0.3));\n",
              "      fill: #FFFFFF;\n",
              "    }\n",
              "  </style>\n",
              "\n",
              "      <script>\n",
              "        const buttonEl =\n",
              "          document.querySelector('#df-fdc57aac-50d8-4fa4-873d-5d8dfd4dc219 button.colab-df-convert');\n",
              "        buttonEl.style.display =\n",
              "          google.colab.kernel.accessAllowed ? 'block' : 'none';\n",
              "\n",
              "        async function convertToInteractive(key) {\n",
              "          const element = document.querySelector('#df-fdc57aac-50d8-4fa4-873d-5d8dfd4dc219');\n",
              "          const dataTable =\n",
              "            await google.colab.kernel.invokeFunction('convertToInteractive',\n",
              "                                                     [key], {});\n",
              "          if (!dataTable) return;\n",
              "\n",
              "          const docLinkHtml = 'Like what you see? Visit the ' +\n",
              "            '<a target=\"_blank\" href=https://colab.research.google.com/notebooks/data_table.ipynb>data table notebook</a>'\n",
              "            + ' to learn more about interactive tables.';\n",
              "          element.innerHTML = '';\n",
              "          dataTable['output_type'] = 'display_data';\n",
              "          await google.colab.output.renderOutput(dataTable, element);\n",
              "          const docLink = document.createElement('div');\n",
              "          docLink.innerHTML = docLinkHtml;\n",
              "          element.appendChild(docLink);\n",
              "        }\n",
              "      </script>\n",
              "    </div>\n",
              "  </div>\n",
              "  "
            ]
          },
          "metadata": {},
          "execution_count": 80
        }
      ]
    },
    {
      "cell_type": "code",
      "source": [
        "submission_df = test_df4[['uniqueid', 'bank_account']]\n",
        "submission_df.head()"
      ],
      "metadata": {
        "colab": {
          "base_uri": "https://localhost:8080/",
          "height": 206
        },
        "id": "b0ze6qXZL73E",
        "outputId": "0898eafc-05d0-455f-e768-b8dae54c3f48"
      },
      "execution_count": null,
      "outputs": [
        {
          "output_type": "execute_result",
          "data": {
            "text/plain": [
              "                uniqueid  bank_account\n",
              "0  uniqueid_6056 x Kenya             1\n",
              "1  uniqueid_6060 x Kenya             1\n",
              "2  uniqueid_6065 x Kenya             0\n",
              "3  uniqueid_6072 x Kenya             0\n",
              "4  uniqueid_6073 x Kenya             0"
            ],
            "text/html": [
              "\n",
              "  <div id=\"df-4e8c9f65-e959-499c-a004-72d97c94b551\">\n",
              "    <div class=\"colab-df-container\">\n",
              "      <div>\n",
              "<style scoped>\n",
              "    .dataframe tbody tr th:only-of-type {\n",
              "        vertical-align: middle;\n",
              "    }\n",
              "\n",
              "    .dataframe tbody tr th {\n",
              "        vertical-align: top;\n",
              "    }\n",
              "\n",
              "    .dataframe thead th {\n",
              "        text-align: right;\n",
              "    }\n",
              "</style>\n",
              "<table border=\"1\" class=\"dataframe\">\n",
              "  <thead>\n",
              "    <tr style=\"text-align: right;\">\n",
              "      <th></th>\n",
              "      <th>uniqueid</th>\n",
              "      <th>bank_account</th>\n",
              "    </tr>\n",
              "  </thead>\n",
              "  <tbody>\n",
              "    <tr>\n",
              "      <th>0</th>\n",
              "      <td>uniqueid_6056 x Kenya</td>\n",
              "      <td>1</td>\n",
              "    </tr>\n",
              "    <tr>\n",
              "      <th>1</th>\n",
              "      <td>uniqueid_6060 x Kenya</td>\n",
              "      <td>1</td>\n",
              "    </tr>\n",
              "    <tr>\n",
              "      <th>2</th>\n",
              "      <td>uniqueid_6065 x Kenya</td>\n",
              "      <td>0</td>\n",
              "    </tr>\n",
              "    <tr>\n",
              "      <th>3</th>\n",
              "      <td>uniqueid_6072 x Kenya</td>\n",
              "      <td>0</td>\n",
              "    </tr>\n",
              "    <tr>\n",
              "      <th>4</th>\n",
              "      <td>uniqueid_6073 x Kenya</td>\n",
              "      <td>0</td>\n",
              "    </tr>\n",
              "  </tbody>\n",
              "</table>\n",
              "</div>\n",
              "      <button class=\"colab-df-convert\" onclick=\"convertToInteractive('df-4e8c9f65-e959-499c-a004-72d97c94b551')\"\n",
              "              title=\"Convert this dataframe to an interactive table.\"\n",
              "              style=\"display:none;\">\n",
              "        \n",
              "  <svg xmlns=\"http://www.w3.org/2000/svg\" height=\"24px\"viewBox=\"0 0 24 24\"\n",
              "       width=\"24px\">\n",
              "    <path d=\"M0 0h24v24H0V0z\" fill=\"none\"/>\n",
              "    <path d=\"M18.56 5.44l.94 2.06.94-2.06 2.06-.94-2.06-.94-.94-2.06-.94 2.06-2.06.94zm-11 1L8.5 8.5l.94-2.06 2.06-.94-2.06-.94L8.5 2.5l-.94 2.06-2.06.94zm10 10l.94 2.06.94-2.06 2.06-.94-2.06-.94-.94-2.06-.94 2.06-2.06.94z\"/><path d=\"M17.41 7.96l-1.37-1.37c-.4-.4-.92-.59-1.43-.59-.52 0-1.04.2-1.43.59L10.3 9.45l-7.72 7.72c-.78.78-.78 2.05 0 2.83L4 21.41c.39.39.9.59 1.41.59.51 0 1.02-.2 1.41-.59l7.78-7.78 2.81-2.81c.8-.78.8-2.07 0-2.86zM5.41 20L4 18.59l7.72-7.72 1.47 1.35L5.41 20z\"/>\n",
              "  </svg>\n",
              "      </button>\n",
              "      \n",
              "  <style>\n",
              "    .colab-df-container {\n",
              "      display:flex;\n",
              "      flex-wrap:wrap;\n",
              "      gap: 12px;\n",
              "    }\n",
              "\n",
              "    .colab-df-convert {\n",
              "      background-color: #E8F0FE;\n",
              "      border: none;\n",
              "      border-radius: 50%;\n",
              "      cursor: pointer;\n",
              "      display: none;\n",
              "      fill: #1967D2;\n",
              "      height: 32px;\n",
              "      padding: 0 0 0 0;\n",
              "      width: 32px;\n",
              "    }\n",
              "\n",
              "    .colab-df-convert:hover {\n",
              "      background-color: #E2EBFA;\n",
              "      box-shadow: 0px 1px 2px rgba(60, 64, 67, 0.3), 0px 1px 3px 1px rgba(60, 64, 67, 0.15);\n",
              "      fill: #174EA6;\n",
              "    }\n",
              "\n",
              "    [theme=dark] .colab-df-convert {\n",
              "      background-color: #3B4455;\n",
              "      fill: #D2E3FC;\n",
              "    }\n",
              "\n",
              "    [theme=dark] .colab-df-convert:hover {\n",
              "      background-color: #434B5C;\n",
              "      box-shadow: 0px 1px 3px 1px rgba(0, 0, 0, 0.15);\n",
              "      filter: drop-shadow(0px 1px 2px rgba(0, 0, 0, 0.3));\n",
              "      fill: #FFFFFF;\n",
              "    }\n",
              "  </style>\n",
              "\n",
              "      <script>\n",
              "        const buttonEl =\n",
              "          document.querySelector('#df-4e8c9f65-e959-499c-a004-72d97c94b551 button.colab-df-convert');\n",
              "        buttonEl.style.display =\n",
              "          google.colab.kernel.accessAllowed ? 'block' : 'none';\n",
              "\n",
              "        async function convertToInteractive(key) {\n",
              "          const element = document.querySelector('#df-4e8c9f65-e959-499c-a004-72d97c94b551');\n",
              "          const dataTable =\n",
              "            await google.colab.kernel.invokeFunction('convertToInteractive',\n",
              "                                                     [key], {});\n",
              "          if (!dataTable) return;\n",
              "\n",
              "          const docLinkHtml = 'Like what you see? Visit the ' +\n",
              "            '<a target=\"_blank\" href=https://colab.research.google.com/notebooks/data_table.ipynb>data table notebook</a>'\n",
              "            + ' to learn more about interactive tables.';\n",
              "          element.innerHTML = '';\n",
              "          dataTable['output_type'] = 'display_data';\n",
              "          await google.colab.output.renderOutput(dataTable, element);\n",
              "          const docLink = document.createElement('div');\n",
              "          docLink.innerHTML = docLinkHtml;\n",
              "          element.appendChild(docLink);\n",
              "        }\n",
              "      </script>\n",
              "    </div>\n",
              "  </div>\n",
              "  "
            ]
          },
          "metadata": {},
          "execution_count": 81
        }
      ]
    },
    {
      "cell_type": "code",
      "source": [
        "submission_df.to_csv('submission2.csv', index=False)"
      ],
      "metadata": {
        "id": "ZsaplGuAMHfl"
      },
      "execution_count": null,
      "outputs": []
    }
  ],
  "metadata": {
    "colab": {
      "provenance": []
    },
    "kernelspec": {
      "display_name": "Python 3",
      "name": "python3"
    },
    "language_info": {
      "name": "python"
    }
  },
  "nbformat": 4,
  "nbformat_minor": 0
}